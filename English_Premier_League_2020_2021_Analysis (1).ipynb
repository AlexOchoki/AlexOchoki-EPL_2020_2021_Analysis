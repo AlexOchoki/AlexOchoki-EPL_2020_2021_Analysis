{
 "cells": [
  {
   "cell_type": "markdown",
   "id": "b9bf5edf",
   "metadata": {},
   "source": [
    "# Python Data Analysis Project\n",
    "## English Premier League 2020/2021 Season Stats\n",
    "### by Alex Mogengo"
   ]
  },
  {
   "cell_type": "code",
   "execution_count": 393,
   "id": "945f5812",
   "metadata": {},
   "outputs": [],
   "source": [
    "import pandas as pd\n",
    "import numpy as np\n",
    "import matplotlib.pyplot as plt\n",
    "import seaborn as sns"
   ]
  },
  {
   "cell_type": "code",
   "execution_count": 394,
   "id": "e56c3a09",
   "metadata": {},
   "outputs": [
    {
     "data": {
      "text/html": [
       "<div>\n",
       "<style scoped>\n",
       "    .dataframe tbody tr th:only-of-type {\n",
       "        vertical-align: middle;\n",
       "    }\n",
       "\n",
       "    .dataframe tbody tr th {\n",
       "        vertical-align: top;\n",
       "    }\n",
       "\n",
       "    .dataframe thead th {\n",
       "        text-align: right;\n",
       "    }\n",
       "</style>\n",
       "<table border=\"1\" class=\"dataframe\">\n",
       "  <thead>\n",
       "    <tr style=\"text-align: right;\">\n",
       "      <th></th>\n",
       "      <th>Name</th>\n",
       "      <th>Club</th>\n",
       "      <th>Nationality</th>\n",
       "      <th>Position</th>\n",
       "      <th>Age</th>\n",
       "      <th>Matches</th>\n",
       "      <th>Starts</th>\n",
       "      <th>Mins</th>\n",
       "      <th>Goals</th>\n",
       "      <th>Assists</th>\n",
       "      <th>Passes_Attempted</th>\n",
       "      <th>Perc_Passes_Completed</th>\n",
       "      <th>Penalty_Goals</th>\n",
       "      <th>Penalty_Attempted</th>\n",
       "      <th>xG</th>\n",
       "      <th>xA</th>\n",
       "      <th>Yellow_Cards</th>\n",
       "      <th>Red_Cards</th>\n",
       "    </tr>\n",
       "  </thead>\n",
       "  <tbody>\n",
       "    <tr>\n",
       "      <th>0</th>\n",
       "      <td>Mason Mount</td>\n",
       "      <td>Chelsea</td>\n",
       "      <td>ENG</td>\n",
       "      <td>MF,FW</td>\n",
       "      <td>21</td>\n",
       "      <td>36</td>\n",
       "      <td>32</td>\n",
       "      <td>2890</td>\n",
       "      <td>6</td>\n",
       "      <td>5</td>\n",
       "      <td>1881</td>\n",
       "      <td>82.3</td>\n",
       "      <td>1</td>\n",
       "      <td>1</td>\n",
       "      <td>0.21</td>\n",
       "      <td>0.24</td>\n",
       "      <td>2</td>\n",
       "      <td>0</td>\n",
       "    </tr>\n",
       "    <tr>\n",
       "      <th>1</th>\n",
       "      <td>Edouard Mendy</td>\n",
       "      <td>Chelsea</td>\n",
       "      <td>SEN</td>\n",
       "      <td>GK</td>\n",
       "      <td>28</td>\n",
       "      <td>31</td>\n",
       "      <td>31</td>\n",
       "      <td>2745</td>\n",
       "      <td>0</td>\n",
       "      <td>0</td>\n",
       "      <td>1007</td>\n",
       "      <td>84.6</td>\n",
       "      <td>0</td>\n",
       "      <td>0</td>\n",
       "      <td>0.00</td>\n",
       "      <td>0.00</td>\n",
       "      <td>2</td>\n",
       "      <td>0</td>\n",
       "    </tr>\n",
       "    <tr>\n",
       "      <th>2</th>\n",
       "      <td>Timo Werner</td>\n",
       "      <td>Chelsea</td>\n",
       "      <td>GER</td>\n",
       "      <td>FW</td>\n",
       "      <td>24</td>\n",
       "      <td>35</td>\n",
       "      <td>29</td>\n",
       "      <td>2602</td>\n",
       "      <td>6</td>\n",
       "      <td>8</td>\n",
       "      <td>826</td>\n",
       "      <td>77.2</td>\n",
       "      <td>0</td>\n",
       "      <td>0</td>\n",
       "      <td>0.41</td>\n",
       "      <td>0.21</td>\n",
       "      <td>2</td>\n",
       "      <td>0</td>\n",
       "    </tr>\n",
       "    <tr>\n",
       "      <th>3</th>\n",
       "      <td>Ben Chilwell</td>\n",
       "      <td>Chelsea</td>\n",
       "      <td>ENG</td>\n",
       "      <td>DF</td>\n",
       "      <td>23</td>\n",
       "      <td>27</td>\n",
       "      <td>27</td>\n",
       "      <td>2286</td>\n",
       "      <td>3</td>\n",
       "      <td>5</td>\n",
       "      <td>1806</td>\n",
       "      <td>78.6</td>\n",
       "      <td>0</td>\n",
       "      <td>0</td>\n",
       "      <td>0.10</td>\n",
       "      <td>0.11</td>\n",
       "      <td>3</td>\n",
       "      <td>0</td>\n",
       "    </tr>\n",
       "    <tr>\n",
       "      <th>4</th>\n",
       "      <td>Reece James</td>\n",
       "      <td>Chelsea</td>\n",
       "      <td>ENG</td>\n",
       "      <td>DF</td>\n",
       "      <td>20</td>\n",
       "      <td>32</td>\n",
       "      <td>25</td>\n",
       "      <td>2373</td>\n",
       "      <td>1</td>\n",
       "      <td>2</td>\n",
       "      <td>1987</td>\n",
       "      <td>85.0</td>\n",
       "      <td>0</td>\n",
       "      <td>0</td>\n",
       "      <td>0.06</td>\n",
       "      <td>0.12</td>\n",
       "      <td>3</td>\n",
       "      <td>0</td>\n",
       "    </tr>\n",
       "  </tbody>\n",
       "</table>\n",
       "</div>"
      ],
      "text/plain": [
       "            Name     Club Nationality Position  Age  Matches  Starts  Mins  \\\n",
       "0    Mason Mount  Chelsea         ENG    MF,FW   21       36      32  2890   \n",
       "1  Edouard Mendy  Chelsea         SEN       GK   28       31      31  2745   \n",
       "2    Timo Werner  Chelsea         GER       FW   24       35      29  2602   \n",
       "3   Ben Chilwell  Chelsea         ENG       DF   23       27      27  2286   \n",
       "4    Reece James  Chelsea         ENG       DF   20       32      25  2373   \n",
       "\n",
       "   Goals  Assists  Passes_Attempted  Perc_Passes_Completed  Penalty_Goals  \\\n",
       "0      6        5              1881                   82.3              1   \n",
       "1      0        0              1007                   84.6              0   \n",
       "2      6        8               826                   77.2              0   \n",
       "3      3        5              1806                   78.6              0   \n",
       "4      1        2              1987                   85.0              0   \n",
       "\n",
       "   Penalty_Attempted    xG    xA  Yellow_Cards  Red_Cards  \n",
       "0                  1  0.21  0.24             2          0  \n",
       "1                  0  0.00  0.00             2          0  \n",
       "2                  0  0.41  0.21             2          0  \n",
       "3                  0  0.10  0.11             3          0  \n",
       "4                  0  0.06  0.12             3          0  "
      ]
     },
     "execution_count": 394,
     "metadata": {},
     "output_type": "execute_result"
    }
   ],
   "source": [
    "## load the data to a data frame\n",
    "epl=pd.read_csv(\"D:\\Projects\\SQL\\Data\\PL_20_21.csv\")\n",
    "epl.head()"
   ]
  },
  {
   "cell_type": "code",
   "execution_count": 395,
   "id": "1d14bf04",
   "metadata": {},
   "outputs": [
    {
     "data": {
      "text/plain": [
       "(532, 18)"
      ]
     },
     "execution_count": 395,
     "metadata": {},
     "output_type": "execute_result"
    }
   ],
   "source": [
    "### lets try to understand more the dataset\n",
    "epl.shape"
   ]
  },
  {
   "cell_type": "code",
   "execution_count": 5,
   "id": "5da938e7",
   "metadata": {},
   "outputs": [
    {
     "data": {
      "text/html": [
       "<div>\n",
       "<style scoped>\n",
       "    .dataframe tbody tr th:only-of-type {\n",
       "        vertical-align: middle;\n",
       "    }\n",
       "\n",
       "    .dataframe tbody tr th {\n",
       "        vertical-align: top;\n",
       "    }\n",
       "\n",
       "    .dataframe thead th {\n",
       "        text-align: right;\n",
       "    }\n",
       "</style>\n",
       "<table border=\"1\" class=\"dataframe\">\n",
       "  <thead>\n",
       "    <tr style=\"text-align: right;\">\n",
       "      <th></th>\n",
       "      <th>Age</th>\n",
       "      <th>Matches</th>\n",
       "      <th>Starts</th>\n",
       "      <th>Mins</th>\n",
       "      <th>Goals</th>\n",
       "      <th>Assists</th>\n",
       "      <th>Passes_Attempted</th>\n",
       "      <th>Perc_Passes_Completed</th>\n",
       "      <th>Penalty_Goals</th>\n",
       "      <th>Penalty_Attempted</th>\n",
       "      <th>xG</th>\n",
       "      <th>xA</th>\n",
       "      <th>Yellow_Cards</th>\n",
       "      <th>Red_Cards</th>\n",
       "    </tr>\n",
       "  </thead>\n",
       "  <tbody>\n",
       "    <tr>\n",
       "      <th>count</th>\n",
       "      <td>532.000000</td>\n",
       "      <td>532.000000</td>\n",
       "      <td>532.000000</td>\n",
       "      <td>532.000000</td>\n",
       "      <td>532.000000</td>\n",
       "      <td>532.000000</td>\n",
       "      <td>532.000000</td>\n",
       "      <td>532.000000</td>\n",
       "      <td>532.000000</td>\n",
       "      <td>532.000000</td>\n",
       "      <td>532.000000</td>\n",
       "      <td>532.000000</td>\n",
       "      <td>532.000000</td>\n",
       "      <td>532.000000</td>\n",
       "    </tr>\n",
       "    <tr>\n",
       "      <th>mean</th>\n",
       "      <td>25.500000</td>\n",
       "      <td>19.535714</td>\n",
       "      <td>15.714286</td>\n",
       "      <td>1411.443609</td>\n",
       "      <td>1.853383</td>\n",
       "      <td>1.287594</td>\n",
       "      <td>717.750000</td>\n",
       "      <td>77.823872</td>\n",
       "      <td>0.191729</td>\n",
       "      <td>0.234962</td>\n",
       "      <td>0.113289</td>\n",
       "      <td>0.072650</td>\n",
       "      <td>2.114662</td>\n",
       "      <td>0.090226</td>\n",
       "    </tr>\n",
       "    <tr>\n",
       "      <th>std</th>\n",
       "      <td>4.319404</td>\n",
       "      <td>11.840459</td>\n",
       "      <td>11.921161</td>\n",
       "      <td>1043.171856</td>\n",
       "      <td>3.338009</td>\n",
       "      <td>2.095191</td>\n",
       "      <td>631.372522</td>\n",
       "      <td>13.011631</td>\n",
       "      <td>0.850881</td>\n",
       "      <td>0.975818</td>\n",
       "      <td>0.148174</td>\n",
       "      <td>0.090072</td>\n",
       "      <td>2.269094</td>\n",
       "      <td>0.293268</td>\n",
       "    </tr>\n",
       "    <tr>\n",
       "      <th>min</th>\n",
       "      <td>16.000000</td>\n",
       "      <td>1.000000</td>\n",
       "      <td>0.000000</td>\n",
       "      <td>1.000000</td>\n",
       "      <td>0.000000</td>\n",
       "      <td>0.000000</td>\n",
       "      <td>0.000000</td>\n",
       "      <td>-1.000000</td>\n",
       "      <td>0.000000</td>\n",
       "      <td>0.000000</td>\n",
       "      <td>0.000000</td>\n",
       "      <td>0.000000</td>\n",
       "      <td>0.000000</td>\n",
       "      <td>0.000000</td>\n",
       "    </tr>\n",
       "    <tr>\n",
       "      <th>25%</th>\n",
       "      <td>22.000000</td>\n",
       "      <td>9.000000</td>\n",
       "      <td>4.000000</td>\n",
       "      <td>426.000000</td>\n",
       "      <td>0.000000</td>\n",
       "      <td>0.000000</td>\n",
       "      <td>171.500000</td>\n",
       "      <td>73.500000</td>\n",
       "      <td>0.000000</td>\n",
       "      <td>0.000000</td>\n",
       "      <td>0.010000</td>\n",
       "      <td>0.000000</td>\n",
       "      <td>0.000000</td>\n",
       "      <td>0.000000</td>\n",
       "    </tr>\n",
       "    <tr>\n",
       "      <th>50%</th>\n",
       "      <td>26.000000</td>\n",
       "      <td>21.000000</td>\n",
       "      <td>15.000000</td>\n",
       "      <td>1345.000000</td>\n",
       "      <td>1.000000</td>\n",
       "      <td>0.000000</td>\n",
       "      <td>573.500000</td>\n",
       "      <td>79.200000</td>\n",
       "      <td>0.000000</td>\n",
       "      <td>0.000000</td>\n",
       "      <td>0.060000</td>\n",
       "      <td>0.050000</td>\n",
       "      <td>2.000000</td>\n",
       "      <td>0.000000</td>\n",
       "    </tr>\n",
       "    <tr>\n",
       "      <th>75%</th>\n",
       "      <td>29.000000</td>\n",
       "      <td>30.000000</td>\n",
       "      <td>27.000000</td>\n",
       "      <td>2303.500000</td>\n",
       "      <td>2.000000</td>\n",
       "      <td>2.000000</td>\n",
       "      <td>1129.500000</td>\n",
       "      <td>84.625000</td>\n",
       "      <td>0.000000</td>\n",
       "      <td>0.000000</td>\n",
       "      <td>0.150000</td>\n",
       "      <td>0.110000</td>\n",
       "      <td>3.000000</td>\n",
       "      <td>0.000000</td>\n",
       "    </tr>\n",
       "    <tr>\n",
       "      <th>max</th>\n",
       "      <td>38.000000</td>\n",
       "      <td>38.000000</td>\n",
       "      <td>38.000000</td>\n",
       "      <td>3420.000000</td>\n",
       "      <td>23.000000</td>\n",
       "      <td>14.000000</td>\n",
       "      <td>3214.000000</td>\n",
       "      <td>100.000000</td>\n",
       "      <td>9.000000</td>\n",
       "      <td>10.000000</td>\n",
       "      <td>1.160000</td>\n",
       "      <td>0.900000</td>\n",
       "      <td>12.000000</td>\n",
       "      <td>2.000000</td>\n",
       "    </tr>\n",
       "  </tbody>\n",
       "</table>\n",
       "</div>"
      ],
      "text/plain": [
       "              Age     Matches      Starts         Mins       Goals  \\\n",
       "count  532.000000  532.000000  532.000000   532.000000  532.000000   \n",
       "mean    25.500000   19.535714   15.714286  1411.443609    1.853383   \n",
       "std      4.319404   11.840459   11.921161  1043.171856    3.338009   \n",
       "min     16.000000    1.000000    0.000000     1.000000    0.000000   \n",
       "25%     22.000000    9.000000    4.000000   426.000000    0.000000   \n",
       "50%     26.000000   21.000000   15.000000  1345.000000    1.000000   \n",
       "75%     29.000000   30.000000   27.000000  2303.500000    2.000000   \n",
       "max     38.000000   38.000000   38.000000  3420.000000   23.000000   \n",
       "\n",
       "          Assists  Passes_Attempted  Perc_Passes_Completed  Penalty_Goals  \\\n",
       "count  532.000000        532.000000             532.000000     532.000000   \n",
       "mean     1.287594        717.750000              77.823872       0.191729   \n",
       "std      2.095191        631.372522              13.011631       0.850881   \n",
       "min      0.000000          0.000000              -1.000000       0.000000   \n",
       "25%      0.000000        171.500000              73.500000       0.000000   \n",
       "50%      0.000000        573.500000              79.200000       0.000000   \n",
       "75%      2.000000       1129.500000              84.625000       0.000000   \n",
       "max     14.000000       3214.000000             100.000000       9.000000   \n",
       "\n",
       "       Penalty_Attempted          xG          xA  Yellow_Cards   Red_Cards  \n",
       "count         532.000000  532.000000  532.000000    532.000000  532.000000  \n",
       "mean            0.234962    0.113289    0.072650      2.114662    0.090226  \n",
       "std             0.975818    0.148174    0.090072      2.269094    0.293268  \n",
       "min             0.000000    0.000000    0.000000      0.000000    0.000000  \n",
       "25%             0.000000    0.010000    0.000000      0.000000    0.000000  \n",
       "50%             0.000000    0.060000    0.050000      2.000000    0.000000  \n",
       "75%             0.000000    0.150000    0.110000      3.000000    0.000000  \n",
       "max            10.000000    1.160000    0.900000     12.000000    2.000000  "
      ]
     },
     "execution_count": 5,
     "metadata": {},
     "output_type": "execute_result"
    }
   ],
   "source": [
    "epl.describe()"
   ]
  },
  {
   "cell_type": "code",
   "execution_count": 6,
   "id": "34377302",
   "metadata": {},
   "outputs": [
    {
     "name": "stdout",
     "output_type": "stream",
     "text": [
      "<class 'pandas.core.frame.DataFrame'>\n",
      "RangeIndex: 532 entries, 0 to 531\n",
      "Data columns (total 18 columns):\n",
      " #   Column                 Non-Null Count  Dtype  \n",
      "---  ------                 --------------  -----  \n",
      " 0   Name                   532 non-null    object \n",
      " 1   Club                   532 non-null    object \n",
      " 2   Nationality            532 non-null    object \n",
      " 3   Position               532 non-null    object \n",
      " 4   Age                    532 non-null    int64  \n",
      " 5   Matches                532 non-null    int64  \n",
      " 6   Starts                 532 non-null    int64  \n",
      " 7   Mins                   532 non-null    int64  \n",
      " 8   Goals                  532 non-null    int64  \n",
      " 9   Assists                532 non-null    int64  \n",
      " 10  Passes_Attempted       532 non-null    int64  \n",
      " 11  Perc_Passes_Completed  532 non-null    float64\n",
      " 12  Penalty_Goals          532 non-null    int64  \n",
      " 13  Penalty_Attempted      532 non-null    int64  \n",
      " 14  xG                     532 non-null    float64\n",
      " 15  xA                     532 non-null    float64\n",
      " 16  Yellow_Cards           532 non-null    int64  \n",
      " 17  Red_Cards              532 non-null    int64  \n",
      "dtypes: float64(3), int64(11), object(4)\n",
      "memory usage: 74.9+ KB\n"
     ]
    }
   ],
   "source": [
    "epl.info()"
   ]
  },
  {
   "cell_type": "markdown",
   "id": "831449e9",
   "metadata": {},
   "source": [
    "### Check for nulls"
   ]
  },
  {
   "cell_type": "code",
   "execution_count": 389,
   "id": "6c7ff387",
   "metadata": {},
   "outputs": [
    {
     "data": {
      "text/html": [
       "<div>\n",
       "<style scoped>\n",
       "    .dataframe tbody tr th:only-of-type {\n",
       "        vertical-align: middle;\n",
       "    }\n",
       "\n",
       "    .dataframe tbody tr th {\n",
       "        vertical-align: top;\n",
       "    }\n",
       "\n",
       "    .dataframe thead th {\n",
       "        text-align: right;\n",
       "    }\n",
       "</style>\n",
       "<table border=\"1\" class=\"dataframe\">\n",
       "  <thead>\n",
       "    <tr style=\"text-align: right;\">\n",
       "      <th></th>\n",
       "      <th>Name</th>\n",
       "      <th>Club</th>\n",
       "      <th>Nationality</th>\n",
       "      <th>Position</th>\n",
       "      <th>Age</th>\n",
       "      <th>Matches</th>\n",
       "      <th>Starts</th>\n",
       "      <th>Mins</th>\n",
       "      <th>Goals</th>\n",
       "      <th>Assists</th>\n",
       "      <th>...</th>\n",
       "      <th>Perc_Passes_Completed</th>\n",
       "      <th>Penalty_Goals</th>\n",
       "      <th>Penalty_Attempted</th>\n",
       "      <th>xG</th>\n",
       "      <th>xA</th>\n",
       "      <th>Yellow_Cards</th>\n",
       "      <th>Red_Cards</th>\n",
       "      <th>Age_groups</th>\n",
       "      <th>goals_per_match</th>\n",
       "      <th>mins_per_goal</th>\n",
       "    </tr>\n",
       "  </thead>\n",
       "  <tbody>\n",
       "    <tr>\n",
       "      <th>0</th>\n",
       "      <td>False</td>\n",
       "      <td>False</td>\n",
       "      <td>False</td>\n",
       "      <td>False</td>\n",
       "      <td>False</td>\n",
       "      <td>False</td>\n",
       "      <td>False</td>\n",
       "      <td>False</td>\n",
       "      <td>False</td>\n",
       "      <td>False</td>\n",
       "      <td>...</td>\n",
       "      <td>False</td>\n",
       "      <td>False</td>\n",
       "      <td>False</td>\n",
       "      <td>False</td>\n",
       "      <td>False</td>\n",
       "      <td>False</td>\n",
       "      <td>False</td>\n",
       "      <td>False</td>\n",
       "      <td>False</td>\n",
       "      <td>False</td>\n",
       "    </tr>\n",
       "    <tr>\n",
       "      <th>1</th>\n",
       "      <td>False</td>\n",
       "      <td>False</td>\n",
       "      <td>False</td>\n",
       "      <td>False</td>\n",
       "      <td>False</td>\n",
       "      <td>False</td>\n",
       "      <td>False</td>\n",
       "      <td>False</td>\n",
       "      <td>False</td>\n",
       "      <td>False</td>\n",
       "      <td>...</td>\n",
       "      <td>False</td>\n",
       "      <td>False</td>\n",
       "      <td>False</td>\n",
       "      <td>False</td>\n",
       "      <td>False</td>\n",
       "      <td>False</td>\n",
       "      <td>False</td>\n",
       "      <td>False</td>\n",
       "      <td>False</td>\n",
       "      <td>False</td>\n",
       "    </tr>\n",
       "    <tr>\n",
       "      <th>2</th>\n",
       "      <td>False</td>\n",
       "      <td>False</td>\n",
       "      <td>False</td>\n",
       "      <td>False</td>\n",
       "      <td>False</td>\n",
       "      <td>False</td>\n",
       "      <td>False</td>\n",
       "      <td>False</td>\n",
       "      <td>False</td>\n",
       "      <td>False</td>\n",
       "      <td>...</td>\n",
       "      <td>False</td>\n",
       "      <td>False</td>\n",
       "      <td>False</td>\n",
       "      <td>False</td>\n",
       "      <td>False</td>\n",
       "      <td>False</td>\n",
       "      <td>False</td>\n",
       "      <td>False</td>\n",
       "      <td>False</td>\n",
       "      <td>False</td>\n",
       "    </tr>\n",
       "    <tr>\n",
       "      <th>3</th>\n",
       "      <td>False</td>\n",
       "      <td>False</td>\n",
       "      <td>False</td>\n",
       "      <td>False</td>\n",
       "      <td>False</td>\n",
       "      <td>False</td>\n",
       "      <td>False</td>\n",
       "      <td>False</td>\n",
       "      <td>False</td>\n",
       "      <td>False</td>\n",
       "      <td>...</td>\n",
       "      <td>False</td>\n",
       "      <td>False</td>\n",
       "      <td>False</td>\n",
       "      <td>False</td>\n",
       "      <td>False</td>\n",
       "      <td>False</td>\n",
       "      <td>False</td>\n",
       "      <td>False</td>\n",
       "      <td>False</td>\n",
       "      <td>False</td>\n",
       "    </tr>\n",
       "    <tr>\n",
       "      <th>4</th>\n",
       "      <td>False</td>\n",
       "      <td>False</td>\n",
       "      <td>False</td>\n",
       "      <td>False</td>\n",
       "      <td>False</td>\n",
       "      <td>False</td>\n",
       "      <td>False</td>\n",
       "      <td>False</td>\n",
       "      <td>False</td>\n",
       "      <td>False</td>\n",
       "      <td>...</td>\n",
       "      <td>False</td>\n",
       "      <td>False</td>\n",
       "      <td>False</td>\n",
       "      <td>False</td>\n",
       "      <td>False</td>\n",
       "      <td>False</td>\n",
       "      <td>False</td>\n",
       "      <td>False</td>\n",
       "      <td>False</td>\n",
       "      <td>False</td>\n",
       "    </tr>\n",
       "    <tr>\n",
       "      <th>...</th>\n",
       "      <td>...</td>\n",
       "      <td>...</td>\n",
       "      <td>...</td>\n",
       "      <td>...</td>\n",
       "      <td>...</td>\n",
       "      <td>...</td>\n",
       "      <td>...</td>\n",
       "      <td>...</td>\n",
       "      <td>...</td>\n",
       "      <td>...</td>\n",
       "      <td>...</td>\n",
       "      <td>...</td>\n",
       "      <td>...</td>\n",
       "      <td>...</td>\n",
       "      <td>...</td>\n",
       "      <td>...</td>\n",
       "      <td>...</td>\n",
       "      <td>...</td>\n",
       "      <td>...</td>\n",
       "      <td>...</td>\n",
       "      <td>...</td>\n",
       "    </tr>\n",
       "    <tr>\n",
       "      <th>527</th>\n",
       "      <td>False</td>\n",
       "      <td>False</td>\n",
       "      <td>False</td>\n",
       "      <td>False</td>\n",
       "      <td>False</td>\n",
       "      <td>False</td>\n",
       "      <td>False</td>\n",
       "      <td>False</td>\n",
       "      <td>False</td>\n",
       "      <td>False</td>\n",
       "      <td>...</td>\n",
       "      <td>False</td>\n",
       "      <td>False</td>\n",
       "      <td>False</td>\n",
       "      <td>False</td>\n",
       "      <td>False</td>\n",
       "      <td>False</td>\n",
       "      <td>False</td>\n",
       "      <td>False</td>\n",
       "      <td>False</td>\n",
       "      <td>False</td>\n",
       "    </tr>\n",
       "    <tr>\n",
       "      <th>528</th>\n",
       "      <td>False</td>\n",
       "      <td>False</td>\n",
       "      <td>False</td>\n",
       "      <td>False</td>\n",
       "      <td>False</td>\n",
       "      <td>False</td>\n",
       "      <td>False</td>\n",
       "      <td>False</td>\n",
       "      <td>False</td>\n",
       "      <td>False</td>\n",
       "      <td>...</td>\n",
       "      <td>False</td>\n",
       "      <td>False</td>\n",
       "      <td>False</td>\n",
       "      <td>False</td>\n",
       "      <td>False</td>\n",
       "      <td>False</td>\n",
       "      <td>False</td>\n",
       "      <td>False</td>\n",
       "      <td>False</td>\n",
       "      <td>False</td>\n",
       "    </tr>\n",
       "    <tr>\n",
       "      <th>529</th>\n",
       "      <td>False</td>\n",
       "      <td>False</td>\n",
       "      <td>False</td>\n",
       "      <td>False</td>\n",
       "      <td>False</td>\n",
       "      <td>False</td>\n",
       "      <td>False</td>\n",
       "      <td>False</td>\n",
       "      <td>False</td>\n",
       "      <td>False</td>\n",
       "      <td>...</td>\n",
       "      <td>False</td>\n",
       "      <td>False</td>\n",
       "      <td>False</td>\n",
       "      <td>False</td>\n",
       "      <td>False</td>\n",
       "      <td>False</td>\n",
       "      <td>False</td>\n",
       "      <td>False</td>\n",
       "      <td>False</td>\n",
       "      <td>False</td>\n",
       "    </tr>\n",
       "    <tr>\n",
       "      <th>530</th>\n",
       "      <td>False</td>\n",
       "      <td>False</td>\n",
       "      <td>False</td>\n",
       "      <td>False</td>\n",
       "      <td>False</td>\n",
       "      <td>False</td>\n",
       "      <td>False</td>\n",
       "      <td>False</td>\n",
       "      <td>False</td>\n",
       "      <td>False</td>\n",
       "      <td>...</td>\n",
       "      <td>False</td>\n",
       "      <td>False</td>\n",
       "      <td>False</td>\n",
       "      <td>False</td>\n",
       "      <td>False</td>\n",
       "      <td>False</td>\n",
       "      <td>False</td>\n",
       "      <td>True</td>\n",
       "      <td>False</td>\n",
       "      <td>False</td>\n",
       "    </tr>\n",
       "    <tr>\n",
       "      <th>531</th>\n",
       "      <td>False</td>\n",
       "      <td>False</td>\n",
       "      <td>False</td>\n",
       "      <td>False</td>\n",
       "      <td>False</td>\n",
       "      <td>False</td>\n",
       "      <td>False</td>\n",
       "      <td>False</td>\n",
       "      <td>False</td>\n",
       "      <td>False</td>\n",
       "      <td>...</td>\n",
       "      <td>False</td>\n",
       "      <td>False</td>\n",
       "      <td>False</td>\n",
       "      <td>False</td>\n",
       "      <td>False</td>\n",
       "      <td>False</td>\n",
       "      <td>False</td>\n",
       "      <td>False</td>\n",
       "      <td>False</td>\n",
       "      <td>False</td>\n",
       "    </tr>\n",
       "  </tbody>\n",
       "</table>\n",
       "<p>532 rows × 21 columns</p>\n",
       "</div>"
      ],
      "text/plain": [
       "      Name   Club  Nationality  Position    Age  Matches  Starts   Mins  \\\n",
       "0    False  False        False     False  False    False   False  False   \n",
       "1    False  False        False     False  False    False   False  False   \n",
       "2    False  False        False     False  False    False   False  False   \n",
       "3    False  False        False     False  False    False   False  False   \n",
       "4    False  False        False     False  False    False   False  False   \n",
       "..     ...    ...          ...       ...    ...      ...     ...    ...   \n",
       "527  False  False        False     False  False    False   False  False   \n",
       "528  False  False        False     False  False    False   False  False   \n",
       "529  False  False        False     False  False    False   False  False   \n",
       "530  False  False        False     False  False    False   False  False   \n",
       "531  False  False        False     False  False    False   False  False   \n",
       "\n",
       "     Goals  Assists  ...  Perc_Passes_Completed  Penalty_Goals  \\\n",
       "0    False    False  ...                  False          False   \n",
       "1    False    False  ...                  False          False   \n",
       "2    False    False  ...                  False          False   \n",
       "3    False    False  ...                  False          False   \n",
       "4    False    False  ...                  False          False   \n",
       "..     ...      ...  ...                    ...            ...   \n",
       "527  False    False  ...                  False          False   \n",
       "528  False    False  ...                  False          False   \n",
       "529  False    False  ...                  False          False   \n",
       "530  False    False  ...                  False          False   \n",
       "531  False    False  ...                  False          False   \n",
       "\n",
       "     Penalty_Attempted     xG     xA  Yellow_Cards  Red_Cards  Age_groups  \\\n",
       "0                False  False  False         False      False       False   \n",
       "1                False  False  False         False      False       False   \n",
       "2                False  False  False         False      False       False   \n",
       "3                False  False  False         False      False       False   \n",
       "4                False  False  False         False      False       False   \n",
       "..                 ...    ...    ...           ...        ...         ...   \n",
       "527              False  False  False         False      False       False   \n",
       "528              False  False  False         False      False       False   \n",
       "529              False  False  False         False      False       False   \n",
       "530              False  False  False         False      False        True   \n",
       "531              False  False  False         False      False       False   \n",
       "\n",
       "     goals_per_match  mins_per_goal  \n",
       "0              False          False  \n",
       "1              False          False  \n",
       "2              False          False  \n",
       "3              False          False  \n",
       "4              False          False  \n",
       "..               ...            ...  \n",
       "527            False          False  \n",
       "528            False          False  \n",
       "529            False          False  \n",
       "530            False          False  \n",
       "531            False          False  \n",
       "\n",
       "[532 rows x 21 columns]"
      ]
     },
     "execution_count": 389,
     "metadata": {},
     "output_type": "execute_result"
    }
   ],
   "source": [
    "## check for nulls\n",
    "epl.isnull()"
   ]
  },
  {
   "cell_type": "markdown",
   "id": "50f36219",
   "metadata": {},
   "source": [
    "### check for duplicated rows"
   ]
  },
  {
   "cell_type": "code",
   "execution_count": 391,
   "id": "3679c41b",
   "metadata": {},
   "outputs": [
    {
     "name": "stdout",
     "output_type": "stream",
     "text": [
      "0      False\n",
      "1      False\n",
      "2      False\n",
      "3      False\n",
      "4      False\n",
      "       ...  \n",
      "527    False\n",
      "528    False\n",
      "529    False\n",
      "530    False\n",
      "531    False\n",
      "Length: 532, dtype: bool\n"
     ]
    }
   ],
   "source": [
    "##check for duplicated rows\n",
    "duplicated_rows=epl.duplicated()\n",
    "print(duplicated_rows)"
   ]
  },
  {
   "cell_type": "markdown",
   "id": "c4daa340",
   "metadata": {},
   "source": [
    "## 1. Totals on important metrics\n"
   ]
  },
  {
   "cell_type": "markdown",
   "id": "5ae5a91e",
   "metadata": {},
   "source": [
    "Now that our data is clean, we can begin the Analysis of the important metrics in the 2020/2021 season.\n",
    "\n",
    "In this section we are going to find out the totals in most aspects of the game. This includes goals, assists, passess attempted and completed, penalties attemped & goals, yellow cards and red cards"
   ]
  },
  {
   "cell_type": "code",
   "execution_count": 397,
   "id": "b8fabc65",
   "metadata": {},
   "outputs": [
    {
     "data": {
      "text/plain": [
       "986"
      ]
     },
     "execution_count": 397,
     "metadata": {},
     "output_type": "execute_result"
    }
   ],
   "source": [
    "### 1.1. Total goals in the season\n",
    "total_goals=epl['Goals'].sum()\n",
    "total_goals"
   ]
  },
  {
   "cell_type": "code",
   "execution_count": 396,
   "id": "049654f4",
   "metadata": {},
   "outputs": [
    {
     "data": {
      "text/plain": [
       "685"
      ]
     },
     "execution_count": 396,
     "metadata": {},
     "output_type": "execute_result"
    }
   ],
   "source": [
    "### 1.2. Total assists in the season\n",
    "total_assists=epl['Assists'].sum()\n",
    "total_assists"
   ]
  },
  {
   "cell_type": "code",
   "execution_count": 401,
   "id": "e4c2351e",
   "metadata": {},
   "outputs": [
    {
     "data": {
      "text/plain": [
       "381843"
      ]
     },
     "execution_count": 401,
     "metadata": {},
     "output_type": "execute_result"
    }
   ],
   "source": [
    "### 1.3. Total passes attempted in the season\n",
    "total_passes_attempted=epl['Passes_Attempted'].sum()\n",
    "total_passes_attempted"
   ]
  },
  {
   "cell_type": "code",
   "execution_count": 400,
   "id": "25817a0b",
   "metadata": {},
   "outputs": [
    {
     "data": {
      "text/plain": [
       "1004.85"
      ]
     },
     "execution_count": 400,
     "metadata": {},
     "output_type": "execute_result"
    }
   ],
   "source": [
    "### average passes attempted in the season per game\n",
    "avg_passes_per_game=total_passes_attempted/380\n",
    "avg_passes_per_game"
   ]
  },
  {
   "cell_type": "code",
   "execution_count": 399,
   "id": "5a519609",
   "metadata": {},
   "outputs": [
    {
     "data": {
      "text/plain": [
       "77.82387218045119"
      ]
     },
     "execution_count": 399,
     "metadata": {},
     "output_type": "execute_result"
    }
   ],
   "source": [
    "### 1.4. Average passing accuracy for the season\n",
    "Passing_accuracy=epl['Perc_Passes_Completed'].mean()\n",
    "Passing_accuracy"
   ]
  },
  {
   "cell_type": "code",
   "execution_count": 398,
   "id": "d4d61830",
   "metadata": {},
   "outputs": [
    {
     "data": {
      "text/plain": [
       "125"
      ]
     },
     "execution_count": 398,
     "metadata": {},
     "output_type": "execute_result"
    }
   ],
   "source": [
    "### 1.5. Total penalties attempted\n",
    "Total_penalties=epl['Penalty_Attempted'].sum()\n",
    "Total_penalties"
   ]
  },
  {
   "cell_type": "code",
   "execution_count": 402,
   "id": "0b9ae510",
   "metadata": {},
   "outputs": [
    {
     "data": {
      "text/plain": [
       "102"
      ]
     },
     "execution_count": 402,
     "metadata": {},
     "output_type": "execute_result"
    }
   ],
   "source": [
    "### 1.6. total Penalty goals \n",
    "total_penalty_goals=epl['Penalty_Goals'].sum()\n",
    "total_penalty_goals"
   ]
  },
  {
   "cell_type": "code",
   "execution_count": 15,
   "id": "8a7fb745",
   "metadata": {},
   "outputs": [
    {
     "data": {
      "text/plain": [
       "81.6"
      ]
     },
     "execution_count": 15,
     "metadata": {},
     "output_type": "execute_result"
    }
   ],
   "source": [
    "### Penalty conversion rate average for the season\n",
    "pen_conversion_rate=total_penalty_goals/Total_penalties*100\n",
    "pen_conversion_rate"
   ]
  },
  {
   "cell_type": "code",
   "execution_count": 403,
   "id": "037ac72a",
   "metadata": {},
   "outputs": [
    {
     "data": {
      "text/plain": [
       "1125"
      ]
     },
     "execution_count": 403,
     "metadata": {},
     "output_type": "execute_result"
    }
   ],
   "source": [
    "### Total yellow cards in the season\n",
    "Total_yellow_cards=epl['Yellow_Cards'].sum()\n",
    "Total_yellow_cards"
   ]
  },
  {
   "cell_type": "code",
   "execution_count": 21,
   "id": "835e9ce6",
   "metadata": {},
   "outputs": [
    {
     "data": {
      "text/plain": [
       "2.960526315789474"
      ]
     },
     "execution_count": 21,
     "metadata": {},
     "output_type": "execute_result"
    }
   ],
   "source": [
    "### average yellow cards in a game\n",
    "avg_yellow_cards=Total_yellow_cards/380\n",
    "avg_yellow_cards"
   ]
  },
  {
   "cell_type": "code",
   "execution_count": 405,
   "id": "aff163cf",
   "metadata": {},
   "outputs": [
    {
     "data": {
      "text/plain": [
       "48"
      ]
     },
     "execution_count": 405,
     "metadata": {},
     "output_type": "execute_result"
    }
   ],
   "source": [
    "### Total red cards in the season\n",
    "Total_red_cards=epl['Red_Cards'].sum()\n",
    "Total_red_cards"
   ]
  },
  {
   "cell_type": "markdown",
   "id": "1504ca07",
   "metadata": {},
   "source": [
    "The above analysis shows the main metrics of the season. These metrics reprsented the total cumulative for all the teams involved in the 2020/2021 English Premier League season. Summary is presented below:\n",
    "\n",
    "Total goals score:        986\n",
    "Total assists provided:   685\n",
    "Total penalties awarded:  125\n",
    "Total penalties scored:   102\n",
    "Penalty conversion rate:  81.6%\n",
    "Total passes attempted:   381843\n",
    "Average Passing accuracy: 77.82%\n",
    "Average passes per game:  1004\n",
    "Total red cards           48\n",
    "Total yellow cards        1125\n",
    "Average yellow cards per game: 2.96"
   ]
  },
  {
   "cell_type": "markdown",
   "id": "c12780bd",
   "metadata": {},
   "source": [
    "## 2. Players Positions"
   ]
  },
  {
   "cell_type": "code",
   "execution_count": 22,
   "id": "12f92558",
   "metadata": {},
   "outputs": [
    {
     "data": {
      "text/plain": [
       "array(['MF,FW', 'GK', 'FW', 'DF', 'MF', 'FW,MF', 'FW,DF', 'DF,MF',\n",
       "       'MF,DF', 'DF,FW'], dtype=object)"
      ]
     },
     "execution_count": 22,
     "metadata": {},
     "output_type": "execute_result"
    }
   ],
   "source": [
    "## Lets find out the uique positions\n",
    "Positions=epl['Position'].unique()\n",
    "Positions"
   ]
  },
  {
   "cell_type": "code",
   "execution_count": 34,
   "id": "bd055421",
   "metadata": {},
   "outputs": [
    {
     "data": {
      "text/plain": [
       "Position\n",
       "DF       178\n",
       "MF       108\n",
       "FW        81\n",
       "FW,MF     47\n",
       "GK        42\n",
       "MF,FW     36\n",
       "DF,MF     15\n",
       "MF,DF     13\n",
       "DF,FW      6\n",
       "FW,DF      6\n",
       "Name: Name, dtype: int64"
      ]
     },
     "execution_count": 34,
     "metadata": {},
     "output_type": "execute_result"
    }
   ],
   "source": [
    "## the total number of players in the season per position\n",
    "No_of_players_by_position=epl.groupby(['Position'])['Name'].count()\n",
    "No_of_players_by_position.sort_values(ascending=False)"
   ]
  },
  {
   "cell_type": "code",
   "execution_count": 35,
   "id": "44f6173a",
   "metadata": {},
   "outputs": [],
   "source": [
    "###Also find the countries in which the players come from"
   ]
  },
  {
   "cell_type": "code",
   "execution_count": 43,
   "id": "13de984a",
   "metadata": {},
   "outputs": [
    {
     "name": "stdout",
     "output_type": "stream",
     "text": [
      "59\n"
     ]
    }
   ],
   "source": [
    "## lets first find the number of countries of origin in which the players came from\n",
    "no_of_countries=np.size(epl['Nationality'].unique())\n",
    "print(no_of_countries)"
   ]
  },
  {
   "cell_type": "code",
   "execution_count": 44,
   "id": "421cc852",
   "metadata": {},
   "outputs": [
    {
     "name": "stdout",
     "output_type": "stream",
     "text": [
      "['ENG' 'SEN' 'GER' 'ESP' 'FRA' 'ITA' 'BRA' 'CRO' 'USA' 'DEN' 'MAR' 'SCO'\n",
      " 'ARG' 'POR' 'BEL' 'ALG' 'UKR' 'NED' 'SWE' 'URU' 'SRB' 'WAL' 'CIV' 'NGA'\n",
      " 'EGY' 'TUR' 'CMR' 'GUI' 'SUI' 'JPN' 'IRL' 'GRE' 'NIR' 'GHA' 'AUT' 'JAM'\n",
      " 'RSA' 'CZE' 'POL' 'PAR' 'COD' 'KOR' 'COL' 'GAB' 'NOR' 'AUS' 'BIH' 'ISL'\n",
      " 'MKD' 'BFA' 'ZIM' 'SVK' 'MEX' 'CAN' 'MLI' 'IRN' 'NZL' 'MTN' 'SKN']\n"
     ]
    }
   ],
   "source": [
    "## get the names (initials) of countries of origin in which the players came from\n",
    "player_countries=epl['Nationality'].unique()\n",
    "print(player_countries)"
   ]
  },
  {
   "cell_type": "code",
   "execution_count": 55,
   "id": "dde78ca6",
   "metadata": {},
   "outputs": [
    {
     "name": "stdout",
     "output_type": "stream",
     "text": [
      "Nationality\n",
      "ENG    192\n",
      "FRA     31\n",
      "BRA     27\n",
      "ESP     26\n",
      "IRL     21\n",
      "POR     21\n",
      "SCO     20\n",
      "NED     16\n",
      "WAL     12\n",
      "BEL     11\n",
      "GER      9\n",
      "ARG      8\n",
      "CIV      8\n",
      "NGA      7\n",
      "DEN      6\n",
      "SUI      6\n",
      "USA      6\n",
      "SEN      5\n",
      "EGY      5\n",
      "COL      5\n",
      "Name: Name, dtype: int64\n"
     ]
    }
   ],
   "source": [
    "## Number of player per country\n",
    "## sort the results in descending order by number of players\n",
    "#show the first 20  countries with many players\n",
    "player_per_country=epl.groupby('Nationality')['Name'].count()\n",
    "print(player_per_country.sort_values(ascending=False).head(20))"
   ]
  },
  {
   "cell_type": "code",
   "execution_count": 71,
   "id": "5dc53d1f",
   "metadata": {},
   "outputs": [
    {
     "data": {
      "image/png": "[encoded data removed]",
      "text/plain": [
       "<Figure size 432x288 with 1 Axes>"
      ]
     },
     "metadata": {},
     "output_type": "display_data"
    }
   ],
   "source": [
    "## lets visualize the number of players in barchart plot\n",
    "import seaborn as sns\n",
    "sns.set_style(\"darkgrid\")\n",
    "player_per_country.sort_values(ascending=False).head(20).plot(kind='bar', color=sns.color_palette(\"flare\"))\n",
    "plt.ylabel(\"No. of Players\")\n",
    "plt.title(\"Number of players by Country of origin\")\n",
    "plt.show()"
   ]
  },
  {
   "cell_type": "code",
   "execution_count": 59,
   "id": "c9372d6f",
   "metadata": {},
   "outputs": [
    {
     "data": {
      "text/plain": [
       "Club\n",
       "West Bromwich Albion       30\n",
       "Arsenal                    29\n",
       "Everton                    29\n",
       "Southampton                29\n",
       "Manchester United          29\n",
       "Fulham                     28\n",
       "Liverpool FC               28\n",
       "Leicester City             27\n",
       "Chelsea                    27\n",
       "Newcastle United           27\n",
       "Sheffield United           27\n",
       "Brighton                   27\n",
       "Wolverhampton Wanderers    27\n",
       "Burnley                    25\n",
       "Crystal Palace             24\n",
       "Aston Villa                24\n",
       "Manchester City            24\n",
       "Tottenham Hotspur          24\n",
       "West Ham United            24\n",
       "Leeds United               23\n",
       "Name: Name, dtype: int64"
      ]
     },
     "execution_count": 59,
     "metadata": {},
     "output_type": "execute_result"
    }
   ],
   "source": [
    "### let's investigate the squad depth\n",
    "squad_depth=epl.groupby('Club')['Name'].count()\n",
    "squad_depth.sort_values(ascending=False)"
   ]
  },
  {
   "cell_type": "markdown",
   "id": "642ed058",
   "metadata": {},
   "source": [
    "## Categorize players by age"
   ]
  },
  {
   "cell_type": "markdown",
   "id": "39ff92c8",
   "metadata": {},
   "source": [
    "In the Premier League there are playersof different ages, teenagers barely 18 while there are also legends of over 36 years!\n",
    "So in this section, I am going to do an analysis by breaking down the ages of players into different groupsm to establish which age group has the highest number of players"
   ]
  },
  {
   "cell_type": "code",
   "execution_count": 84,
   "id": "4467c7b6",
   "metadata": {},
   "outputs": [
    {
     "name": "stdout",
     "output_type": "stream",
     "text": [
      "38\n"
     ]
    }
   ],
   "source": [
    "### Age of the oldest player\n",
    "oldest_player=epl['Age'].max()\n",
    "print(oldest_player)"
   ]
  },
  {
   "cell_type": "code",
   "execution_count": 88,
   "id": "9cb980e3",
   "metadata": {},
   "outputs": [
    {
     "name": "stdout",
     "output_type": "stream",
     "text": [
      "16\n"
     ]
    }
   ],
   "source": [
    "### Age of the youngest player\n",
    "youngest_player=epl['Age'].min()\n",
    "print(youngest_player)"
   ]
  },
  {
   "cell_type": "code",
   "execution_count": 382,
   "id": "59459c1a",
   "metadata": {},
   "outputs": [
    {
     "data": {
      "image/png": "[encoded data removed]",
      "text/plain": [
       "<Figure size 1080x504 with 1 Axes>"
      ]
     },
     "metadata": {},
     "output_type": "display_data"
    }
   ],
   "source": [
    "plt.figure(figsize=(15,7))\n",
    "sns.boxplot(x='Club', y='Age', data=epl)\n",
    "plt.xticks(rotation=90)\n",
    "plt.title(\"Age distribution in the clubs for 2020/2021 season\")\n",
    "plt.show()"
   ]
  },
  {
   "cell_type": "code",
   "execution_count": 96,
   "id": "32852405",
   "metadata": {},
   "outputs": [
    {
     "data": {
      "text/plain": [
       "0      21-25 years\n",
       "1      26-30 years\n",
       "2      21-25 years\n",
       "3      21-25 years\n",
       "4      16-20 years\n",
       "          ...     \n",
       "527    21-25 years\n",
       "528    26-30 years\n",
       "529    21-25 years\n",
       "530            NaN\n",
       "531    16-20 years\n",
       "Name: Age_groups, Length: 532, dtype: category\n",
       "Categories (5, object): ['16-20 years' < '21-25 years' < '26-30 years' < '31-35 years' < '36-40 years']"
      ]
     },
     "execution_count": 96,
     "metadata": {},
     "output_type": "execute_result"
    }
   ],
   "source": [
    "##create the age ranges & groups\n",
    "age_range=[16, 20, 25, 30, 35, 40]\n",
    "range_names=['16-20 years', '21-25 years', '26-30 years', '31-35 years', '36-40 years']\n",
    "epl['Age_groups']=pd.cut(epl['Age'], bins=age_range, labels=range_names)\n",
    "epl['Age_groups']"
   ]
  },
  {
   "cell_type": "code",
   "execution_count": null,
   "id": "b307e5db",
   "metadata": {},
   "outputs": [],
   "source": []
  },
  {
   "cell_type": "code",
   "execution_count": 105,
   "id": "7c231e1c",
   "metadata": {},
   "outputs": [
    {
     "name": "stdout",
     "output_type": "stream",
     "text": [
      "Age_groups\n",
      "26-30 years    197\n",
      "21-25 years    186\n",
      "16-20 years     74\n",
      "31-35 years     67\n",
      "36-40 years      4\n",
      "Name: Age, dtype: int64\n"
     ]
    }
   ],
   "source": [
    "age_distribution=epl.groupby('Age_groups')['Age'].count().sort_values(ascending=False)\n",
    "print(age_distribution)\n"
   ]
  },
  {
   "cell_type": "code",
   "execution_count": 383,
   "id": "82ae55a4",
   "metadata": {},
   "outputs": [
    {
     "data": {
      "image/png": "[encoded data removed]",
      "text/plain": [
       "<Figure size 1080x504 with 1 Axes>"
      ]
     },
     "metadata": {},
     "output_type": "display_data"
    }
   ],
   "source": [
    "import matplotlib.pyplot as plt\n",
    "plt.figure(figsize=(15,7))\n",
    "age_distribution.plot(kind='bar')\n",
    "plt.ylabel(\"Number of players\")\n",
    "plt.xlabel(\"Age groups\")\n",
    "plt.title(\"Number of players by category\")\n",
    "plt.show()"
   ]
  },
  {
   "cell_type": "code",
   "execution_count": 131,
   "id": "dcba7bf9",
   "metadata": {},
   "outputs": [
    {
     "data": {
      "text/html": [
       "<div>\n",
       "<style scoped>\n",
       "    .dataframe tbody tr th:only-of-type {\n",
       "        vertical-align: middle;\n",
       "    }\n",
       "\n",
       "    .dataframe tbody tr th {\n",
       "        vertical-align: top;\n",
       "    }\n",
       "\n",
       "    .dataframe thead th {\n",
       "        text-align: right;\n",
       "    }\n",
       "</style>\n",
       "<table border=\"1\" class=\"dataframe\">\n",
       "  <thead>\n",
       "    <tr style=\"text-align: right;\">\n",
       "      <th></th>\n",
       "      <th>Age</th>\n",
       "      <th>Matches</th>\n",
       "      <th>Starts</th>\n",
       "      <th>Mins</th>\n",
       "      <th>Goals</th>\n",
       "      <th>Assists</th>\n",
       "      <th>Passes_Attempted</th>\n",
       "      <th>Perc_Passes_Completed</th>\n",
       "      <th>Penalty_Goals</th>\n",
       "      <th>Penalty_Attempted</th>\n",
       "      <th>xG</th>\n",
       "      <th>xA</th>\n",
       "      <th>Yellow_Cards</th>\n",
       "      <th>Red_Cards</th>\n",
       "    </tr>\n",
       "    <tr>\n",
       "      <th>Club</th>\n",
       "      <th></th>\n",
       "      <th></th>\n",
       "      <th></th>\n",
       "      <th></th>\n",
       "      <th></th>\n",
       "      <th></th>\n",
       "      <th></th>\n",
       "      <th></th>\n",
       "      <th></th>\n",
       "      <th></th>\n",
       "      <th></th>\n",
       "      <th></th>\n",
       "      <th></th>\n",
       "      <th></th>\n",
       "    </tr>\n",
       "  </thead>\n",
       "  <tbody>\n",
       "    <tr>\n",
       "      <th>Arsenal</th>\n",
       "      <td>724</td>\n",
       "      <td>532</td>\n",
       "      <td>418</td>\n",
       "      <td>37453</td>\n",
       "      <td>53</td>\n",
       "      <td>38</td>\n",
       "      <td>21291</td>\n",
       "      <td>2356.6</td>\n",
       "      <td>6</td>\n",
       "      <td>6</td>\n",
       "      <td>3.66</td>\n",
       "      <td>2.42</td>\n",
       "      <td>49</td>\n",
       "      <td>5</td>\n",
       "    </tr>\n",
       "    <tr>\n",
       "      <th>Aston Villa</th>\n",
       "      <td>583</td>\n",
       "      <td>509</td>\n",
       "      <td>418</td>\n",
       "      <td>37532</td>\n",
       "      <td>52</td>\n",
       "      <td>38</td>\n",
       "      <td>16556</td>\n",
       "      <td>1843.1</td>\n",
       "      <td>5</td>\n",
       "      <td>6</td>\n",
       "      <td>3.28</td>\n",
       "      <td>2.04</td>\n",
       "      <td>71</td>\n",
       "      <td>4</td>\n",
       "    </tr>\n",
       "    <tr>\n",
       "      <th>Brighton</th>\n",
       "      <td>663</td>\n",
       "      <td>526</td>\n",
       "      <td>418</td>\n",
       "      <td>37576</td>\n",
       "      <td>39</td>\n",
       "      <td>24</td>\n",
       "      <td>19456</td>\n",
       "      <td>1943.7</td>\n",
       "      <td>6</td>\n",
       "      <td>9</td>\n",
       "      <td>3.39</td>\n",
       "      <td>2.36</td>\n",
       "      <td>49</td>\n",
       "      <td>6</td>\n",
       "    </tr>\n",
       "    <tr>\n",
       "      <th>Burnley</th>\n",
       "      <td>676</td>\n",
       "      <td>499</td>\n",
       "      <td>418</td>\n",
       "      <td>37620</td>\n",
       "      <td>32</td>\n",
       "      <td>20</td>\n",
       "      <td>15043</td>\n",
       "      <td>1686.4</td>\n",
       "      <td>3</td>\n",
       "      <td>3</td>\n",
       "      <td>2.17</td>\n",
       "      <td>1.13</td>\n",
       "      <td>48</td>\n",
       "      <td>0</td>\n",
       "    </tr>\n",
       "    <tr>\n",
       "      <th>Chelsea</th>\n",
       "      <td>691</td>\n",
       "      <td>526</td>\n",
       "      <td>418</td>\n",
       "      <td>37510</td>\n",
       "      <td>56</td>\n",
       "      <td>38</td>\n",
       "      <td>25151</td>\n",
       "      <td>2268.9</td>\n",
       "      <td>8</td>\n",
       "      <td>10</td>\n",
       "      <td>3.70</td>\n",
       "      <td>2.32</td>\n",
       "      <td>51</td>\n",
       "      <td>3</td>\n",
       "    </tr>\n",
       "    <tr>\n",
       "      <th>Crystal Palace</th>\n",
       "      <td>680</td>\n",
       "      <td>513</td>\n",
       "      <td>418</td>\n",
       "      <td>37594</td>\n",
       "      <td>39</td>\n",
       "      <td>29</td>\n",
       "      <td>15092</td>\n",
       "      <td>1788.7</td>\n",
       "      <td>3</td>\n",
       "      <td>4</td>\n",
       "      <td>1.62</td>\n",
       "      <td>1.09</td>\n",
       "      <td>56</td>\n",
       "      <td>2</td>\n",
       "    </tr>\n",
       "    <tr>\n",
       "      <th>Everton</th>\n",
       "      <td>737</td>\n",
       "      <td>524</td>\n",
       "      <td>418</td>\n",
       "      <td>37600</td>\n",
       "      <td>45</td>\n",
       "      <td>32</td>\n",
       "      <td>18246</td>\n",
       "      <td>2306.1</td>\n",
       "      <td>4</td>\n",
       "      <td>5</td>\n",
       "      <td>2.47</td>\n",
       "      <td>1.78</td>\n",
       "      <td>59</td>\n",
       "      <td>2</td>\n",
       "    </tr>\n",
       "    <tr>\n",
       "      <th>Fulham</th>\n",
       "      <td>701</td>\n",
       "      <td>528</td>\n",
       "      <td>418</td>\n",
       "      <td>37541</td>\n",
       "      <td>26</td>\n",
       "      <td>18</td>\n",
       "      <td>18860</td>\n",
       "      <td>2287.9</td>\n",
       "      <td>3</td>\n",
       "      <td>6</td>\n",
       "      <td>2.99</td>\n",
       "      <td>1.67</td>\n",
       "      <td>67</td>\n",
       "      <td>3</td>\n",
       "    </tr>\n",
       "    <tr>\n",
       "      <th>Leeds United</th>\n",
       "      <td>583</td>\n",
       "      <td>525</td>\n",
       "      <td>418</td>\n",
       "      <td>37574</td>\n",
       "      <td>60</td>\n",
       "      <td>45</td>\n",
       "      <td>20043</td>\n",
       "      <td>1825.8</td>\n",
       "      <td>4</td>\n",
       "      <td>4</td>\n",
       "      <td>2.68</td>\n",
       "      <td>2.00</td>\n",
       "      <td>61</td>\n",
       "      <td>1</td>\n",
       "    </tr>\n",
       "    <tr>\n",
       "      <th>Leicester City</th>\n",
       "      <td>691</td>\n",
       "      <td>517</td>\n",
       "      <td>418</td>\n",
       "      <td>37620</td>\n",
       "      <td>64</td>\n",
       "      <td>45</td>\n",
       "      <td>20572</td>\n",
       "      <td>2139.5</td>\n",
       "      <td>10</td>\n",
       "      <td>12</td>\n",
       "      <td>3.35</td>\n",
       "      <td>2.17</td>\n",
       "      <td>61</td>\n",
       "      <td>0</td>\n",
       "    </tr>\n",
       "    <tr>\n",
       "      <th>Liverpool FC</th>\n",
       "      <td>716</td>\n",
       "      <td>522</td>\n",
       "      <td>418</td>\n",
       "      <td>37620</td>\n",
       "      <td>65</td>\n",
       "      <td>43</td>\n",
       "      <td>25526</td>\n",
       "      <td>2336.7</td>\n",
       "      <td>6</td>\n",
       "      <td>6</td>\n",
       "      <td>3.87</td>\n",
       "      <td>2.72</td>\n",
       "      <td>40</td>\n",
       "      <td>0</td>\n",
       "    </tr>\n",
       "    <tr>\n",
       "      <th>Manchester City</th>\n",
       "      <td>617</td>\n",
       "      <td>495</td>\n",
       "      <td>418</td>\n",
       "      <td>37492</td>\n",
       "      <td>82</td>\n",
       "      <td>55</td>\n",
       "      <td>26688</td>\n",
       "      <td>2081.6</td>\n",
       "      <td>5</td>\n",
       "      <td>9</td>\n",
       "      <td>3.88</td>\n",
       "      <td>2.52</td>\n",
       "      <td>46</td>\n",
       "      <td>2</td>\n",
       "    </tr>\n",
       "    <tr>\n",
       "      <th>Manchester United</th>\n",
       "      <td>692</td>\n",
       "      <td>517</td>\n",
       "      <td>418</td>\n",
       "      <td>37557</td>\n",
       "      <td>70</td>\n",
       "      <td>51</td>\n",
       "      <td>21960</td>\n",
       "      <td>2368.2</td>\n",
       "      <td>10</td>\n",
       "      <td>11</td>\n",
       "      <td>3.16</td>\n",
       "      <td>2.55</td>\n",
       "      <td>64</td>\n",
       "      <td>1</td>\n",
       "    </tr>\n",
       "    <tr>\n",
       "      <th>Newcastle United</th>\n",
       "      <td>704</td>\n",
       "      <td>527</td>\n",
       "      <td>418</td>\n",
       "      <td>37520</td>\n",
       "      <td>44</td>\n",
       "      <td>26</td>\n",
       "      <td>14218</td>\n",
       "      <td>2027.3</td>\n",
       "      <td>6</td>\n",
       "      <td>7</td>\n",
       "      <td>2.65</td>\n",
       "      <td>1.55</td>\n",
       "      <td>65</td>\n",
       "      <td>3</td>\n",
       "    </tr>\n",
       "    <tr>\n",
       "      <th>Sheffield United</th>\n",
       "      <td>670</td>\n",
       "      <td>521</td>\n",
       "      <td>418</td>\n",
       "      <td>37456</td>\n",
       "      <td>19</td>\n",
       "      <td>13</td>\n",
       "      <td>15843</td>\n",
       "      <td>1999.0</td>\n",
       "      <td>3</td>\n",
       "      <td>4</td>\n",
       "      <td>3.67</td>\n",
       "      <td>1.33</td>\n",
       "      <td>73</td>\n",
       "      <td>3</td>\n",
       "    </tr>\n",
       "    <tr>\n",
       "      <th>Southampton</th>\n",
       "      <td>700</td>\n",
       "      <td>519</td>\n",
       "      <td>418</td>\n",
       "      <td>37445</td>\n",
       "      <td>47</td>\n",
       "      <td>33</td>\n",
       "      <td>18761</td>\n",
       "      <td>2115.7</td>\n",
       "      <td>5</td>\n",
       "      <td>6</td>\n",
       "      <td>2.37</td>\n",
       "      <td>1.59</td>\n",
       "      <td>52</td>\n",
       "      <td>3</td>\n",
       "    </tr>\n",
       "    <tr>\n",
       "      <th>Tottenham Hotspur</th>\n",
       "      <td>615</td>\n",
       "      <td>530</td>\n",
       "      <td>418</td>\n",
       "      <td>37604</td>\n",
       "      <td>66</td>\n",
       "      <td>50</td>\n",
       "      <td>19872</td>\n",
       "      <td>1824.1</td>\n",
       "      <td>5</td>\n",
       "      <td>5</td>\n",
       "      <td>3.10</td>\n",
       "      <td>1.80</td>\n",
       "      <td>57</td>\n",
       "      <td>2</td>\n",
       "    </tr>\n",
       "    <tr>\n",
       "      <th>West Bromwich Albion</th>\n",
       "      <td>803</td>\n",
       "      <td>522</td>\n",
       "      <td>418</td>\n",
       "      <td>37401</td>\n",
       "      <td>33</td>\n",
       "      <td>20</td>\n",
       "      <td>13646</td>\n",
       "      <td>2171.5</td>\n",
       "      <td>4</td>\n",
       "      <td>4</td>\n",
       "      <td>2.41</td>\n",
       "      <td>1.19</td>\n",
       "      <td>51</td>\n",
       "      <td>4</td>\n",
       "    </tr>\n",
       "    <tr>\n",
       "      <th>West Ham United</th>\n",
       "      <td>660</td>\n",
       "      <td>517</td>\n",
       "      <td>418</td>\n",
       "      <td>37554</td>\n",
       "      <td>60</td>\n",
       "      <td>46</td>\n",
       "      <td>16358</td>\n",
       "      <td>1835.9</td>\n",
       "      <td>2</td>\n",
       "      <td>4</td>\n",
       "      <td>2.75</td>\n",
       "      <td>2.10</td>\n",
       "      <td>50</td>\n",
       "      <td>3</td>\n",
       "    </tr>\n",
       "    <tr>\n",
       "      <th>Wolverhampton Wanderers</th>\n",
       "      <td>660</td>\n",
       "      <td>524</td>\n",
       "      <td>418</td>\n",
       "      <td>37619</td>\n",
       "      <td>34</td>\n",
       "      <td>21</td>\n",
       "      <td>18661</td>\n",
       "      <td>2195.6</td>\n",
       "      <td>4</td>\n",
       "      <td>4</td>\n",
       "      <td>3.10</td>\n",
       "      <td>2.32</td>\n",
       "      <td>55</td>\n",
       "      <td>1</td>\n",
       "    </tr>\n",
       "  </tbody>\n",
       "</table>\n",
       "</div>"
      ],
      "text/plain": [
       "                         Age  Matches  Starts   Mins  Goals  Assists  \\\n",
       "Club                                                                   \n",
       "Arsenal                  724      532     418  37453     53       38   \n",
       "Aston Villa              583      509     418  37532     52       38   \n",
       "Brighton                 663      526     418  37576     39       24   \n",
       "Burnley                  676      499     418  37620     32       20   \n",
       "Chelsea                  691      526     418  37510     56       38   \n",
       "Crystal Palace           680      513     418  37594     39       29   \n",
       "Everton                  737      524     418  37600     45       32   \n",
       "Fulham                   701      528     418  37541     26       18   \n",
       "Leeds United             583      525     418  37574     60       45   \n",
       "Leicester City           691      517     418  37620     64       45   \n",
       "Liverpool FC             716      522     418  37620     65       43   \n",
       "Manchester City          617      495     418  37492     82       55   \n",
       "Manchester United        692      517     418  37557     70       51   \n",
       "Newcastle United         704      527     418  37520     44       26   \n",
       "Sheffield United         670      521     418  37456     19       13   \n",
       "Southampton              700      519     418  37445     47       33   \n",
       "Tottenham Hotspur        615      530     418  37604     66       50   \n",
       "West Bromwich Albion     803      522     418  37401     33       20   \n",
       "West Ham United          660      517     418  37554     60       46   \n",
       "Wolverhampton Wanderers  660      524     418  37619     34       21   \n",
       "\n",
       "                         Passes_Attempted  Perc_Passes_Completed  \\\n",
       "Club                                                               \n",
       "Arsenal                             21291                 2356.6   \n",
       "Aston Villa                         16556                 1843.1   \n",
       "Brighton                            19456                 1943.7   \n",
       "Burnley                             15043                 1686.4   \n",
       "Chelsea                             25151                 2268.9   \n",
       "Crystal Palace                      15092                 1788.7   \n",
       "Everton                             18246                 2306.1   \n",
       "Fulham                              18860                 2287.9   \n",
       "Leeds United                        20043                 1825.8   \n",
       "Leicester City                      20572                 2139.5   \n",
       "Liverpool FC                        25526                 2336.7   \n",
       "Manchester City                     26688                 2081.6   \n",
       "Manchester United                   21960                 2368.2   \n",
       "Newcastle United                    14218                 2027.3   \n",
       "Sheffield United                    15843                 1999.0   \n",
       "Southampton                         18761                 2115.7   \n",
       "Tottenham Hotspur                   19872                 1824.1   \n",
       "West Bromwich Albion                13646                 2171.5   \n",
       "West Ham United                     16358                 1835.9   \n",
       "Wolverhampton Wanderers             18661                 2195.6   \n",
       "\n",
       "                         Penalty_Goals  Penalty_Attempted    xG    xA  \\\n",
       "Club                                                                    \n",
       "Arsenal                              6                  6  3.66  2.42   \n",
       "Aston Villa                          5                  6  3.28  2.04   \n",
       "Brighton                             6                  9  3.39  2.36   \n",
       "Burnley                              3                  3  2.17  1.13   \n",
       "Chelsea                              8                 10  3.70  2.32   \n",
       "Crystal Palace                       3                  4  1.62  1.09   \n",
       "Everton                              4                  5  2.47  1.78   \n",
       "Fulham                               3                  6  2.99  1.67   \n",
       "Leeds United                         4                  4  2.68  2.00   \n",
       "Leicester City                      10                 12  3.35  2.17   \n",
       "Liverpool FC                         6                  6  3.87  2.72   \n",
       "Manchester City                      5                  9  3.88  2.52   \n",
       "Manchester United                   10                 11  3.16  2.55   \n",
       "Newcastle United                     6                  7  2.65  1.55   \n",
       "Sheffield United                     3                  4  3.67  1.33   \n",
       "Southampton                          5                  6  2.37  1.59   \n",
       "Tottenham Hotspur                    5                  5  3.10  1.80   \n",
       "West Bromwich Albion                 4                  4  2.41  1.19   \n",
       "West Ham United                      2                  4  2.75  2.10   \n",
       "Wolverhampton Wanderers              4                  4  3.10  2.32   \n",
       "\n",
       "                         Yellow_Cards  Red_Cards  \n",
       "Club                                              \n",
       "Arsenal                            49          5  \n",
       "Aston Villa                        71          4  \n",
       "Brighton                           49          6  \n",
       "Burnley                            48          0  \n",
       "Chelsea                            51          3  \n",
       "Crystal Palace                     56          2  \n",
       "Everton                            59          2  \n",
       "Fulham                             67          3  \n",
       "Leeds United                       61          1  \n",
       "Leicester City                     61          0  \n",
       "Liverpool FC                       40          0  \n",
       "Manchester City                    46          2  \n",
       "Manchester United                  64          1  \n",
       "Newcastle United                   65          3  \n",
       "Sheffield United                   73          3  \n",
       "Southampton                        52          3  \n",
       "Tottenham Hotspur                  57          2  \n",
       "West Bromwich Albion               51          4  \n",
       "West Ham United                    50          3  \n",
       "Wolverhampton Wanderers            55          1  "
      ]
     },
     "execution_count": 131,
     "metadata": {},
     "output_type": "execute_result"
    }
   ],
   "source": [
    "## breakdown of the players age groups by club\n",
    "Under_20=epl.groupby('Club').sum()\n",
    "Under_20"
   ]
  },
  {
   "cell_type": "code",
   "execution_count": 171,
   "id": "646a60e5",
   "metadata": {},
   "outputs": [
    {
     "name": "stdout",
     "output_type": "stream",
     "text": [
      "                   Name              Club Nationality Position  Age  Matches  \\\n",
      "4           Reece James           Chelsea         ENG       DF   20       32   \n",
      "18   Callum Hudson-Odoi           Chelsea         ENG    FW,DF   19       23   \n",
      "21        Billy Gilmour           Chelsea         SCO       MF   19        5   \n",
      "39           Phil Foden   Manchester City         ENG    FW,MF   20       28   \n",
      "41       FerrÃ¡n Torres   Manchester City         ESP    FW,MF   20       24   \n",
      "..                  ...               ...         ...      ...  ...      ...   \n",
      "519      Rhian Brewster  Sheffield United         ENG       FW   20       27   \n",
      "520        Jayden Bogle  Sheffield United         ENG       DF   20       16   \n",
      "526     Daniel Jebbison  Sheffield United         ENG       FW   17        4   \n",
      "530   Antwoine Hackford  Sheffield United         ENG    DF,FW   16        1   \n",
      "531         Femi Seriki  Sheffield United         ENG       DF   17        1   \n",
      "\n",
      "     Starts  Mins  Goals  Assists  Passes_Attempted  Perc_Passes_Completed  \\\n",
      "4        25  2373      1        2              1987                   85.0   \n",
      "18       10  1059      2        3               659                   82.2   \n",
      "21        3   261      0        0               215                   89.3   \n",
      "39       17  1616      9        5               838                   82.0   \n",
      "41       15  1306      7        2               442                   81.4   \n",
      "..      ...   ...    ...      ...               ...                    ...   \n",
      "519      12  1128      0        0               225                   69.3   \n",
      "520      12  1110      2        0               383                   78.3   \n",
      "526       3   284      1        0                34                   70.6   \n",
      "530       0    11      0        0                 1                  100.0   \n",
      "531       0     1      0        0                 0                   -1.0   \n",
      "\n",
      "     Penalty_Goals  Penalty_Attempted    xG    xA  Yellow_Cards  Red_Cards  \\\n",
      "4                0                  0  0.06  0.12             3          0   \n",
      "18               0                  0  0.12  0.26             0          0   \n",
      "21               0                  0  0.01  0.04             0          0   \n",
      "39               0                  0  0.31  0.23             0          0   \n",
      "41               0                  0  0.37  0.13             1          0   \n",
      "..             ...                ...   ...   ...           ...        ...   \n",
      "519              0                  0  0.14  0.13             1          0   \n",
      "520              0                  0  0.14  0.01             2          0   \n",
      "526              0                  0  0.50  0.01             0          0   \n",
      "530              0                  0  1.16  0.00             0          0   \n",
      "531              0                  0  0.00  0.00             0          0   \n",
      "\n",
      "      Age_groups  \n",
      "4    16-20 years  \n",
      "18   16-20 years  \n",
      "21   16-20 years  \n",
      "39   16-20 years  \n",
      "41   16-20 years  \n",
      "..           ...  \n",
      "519  16-20 years  \n",
      "520  16-20 years  \n",
      "526  16-20 years  \n",
      "530          NaN  \n",
      "531  16-20 years  \n",
      "\n",
      "[78 rows x 19 columns]\n",
      "Name                     78\n",
      "Club                     78\n",
      "Nationality              78\n",
      "Position                 78\n",
      "Age                      78\n",
      "Matches                  78\n",
      "Starts                   78\n",
      "Mins                     78\n",
      "Goals                    78\n",
      "Assists                  78\n",
      "Passes_Attempted         78\n",
      "Perc_Passes_Completed    78\n",
      "Penalty_Goals            78\n",
      "Penalty_Attempted        78\n",
      "xG                       78\n",
      "xA                       78\n",
      "Yellow_Cards             78\n",
      "Red_Cards                78\n",
      "Age_groups               74\n",
      "dtype: int64\n"
     ]
    }
   ],
   "source": [
    "## identify the names of the under 20 players\n",
    "u20_players=epl[epl['Age'] <=20]\n",
    "print(u20_players)\n",
    "# count the number of under 20 players\n",
    "print(u20_players.count())"
   ]
  },
  {
   "cell_type": "code",
   "execution_count": 185,
   "id": "bf5cbe82",
   "metadata": {},
   "outputs": [
    {
     "name": "stdout",
     "output_type": "stream",
     "text": [
      "Club\n",
      "Wolverhampton Wanderers    8\n",
      "Southampton                7\n",
      "Manchester United          7\n",
      "Leeds United               6\n",
      "Sheffield United           6\n",
      "Arsenal                    5\n",
      "Everton                    4\n",
      "Leicester City             4\n",
      "Manchester City            4\n",
      "Brighton                   4\n",
      "Liverpool FC               4\n",
      "Aston Villa                3\n",
      "Chelsea                    3\n",
      "Newcastle United           3\n",
      "Burnley                    3\n",
      "Fulham                     2\n",
      "West Bromwich Albion       2\n",
      "Crystal Palace             1\n",
      "Tottenham Hotspur          1\n",
      "West Ham United            1\n",
      "Name: Name, dtype: int64\n"
     ]
    }
   ],
   "source": [
    "## Under 20 years players by teams\n",
    "u20=u20_players.groupby('Club')['Name'].count()\n",
    "print(u20.sort_values(ascending=False))"
   ]
  },
  {
   "cell_type": "code",
   "execution_count": 384,
   "id": "80e09757",
   "metadata": {},
   "outputs": [
    {
     "data": {
      "text/plain": [
       "Text(0.5, 1.0, 'Under 20 years players by club')"
      ]
     },
     "execution_count": 384,
     "metadata": {},
     "output_type": "execute_result"
    },
    {
     "data": {
      "image/png": "[encoded data removed]",
      "text/plain": [
       "<Figure size 864x432 with 1 Axes>"
      ]
     },
     "metadata": {},
     "output_type": "display_data"
    }
   ],
   "source": [
    "plt.figure(figsize=(12,6))\n",
    "u20.sort_values(ascending=False).plot(kind='bar')\n",
    "plt.xlabel(\"Teams\")\n",
    "plt.ylabel(\"Number of players\")\n",
    "plt.title(\"Under 20 years players by club\")"
   ]
  },
  {
   "cell_type": "code",
   "execution_count": 183,
   "id": "6b791e1e",
   "metadata": {},
   "outputs": [
    {
     "name": "stdout",
     "output_type": "stream",
     "text": [
      "                  Name              Club Nationality Position  Age  Matches  \\\n",
      "0          Mason Mount           Chelsea         ENG    MF,FW   21       36   \n",
      "2          Timo Werner           Chelsea         GER       FW   24       35   \n",
      "3         Ben Chilwell           Chelsea         ENG       DF   23       27   \n",
      "9           Kurt Zouma           Chelsea         FRA       DF   25       24   \n",
      "12   Christian Pulisic           Chelsea         USA    FW,MF   21       27   \n",
      "..                 ...               ...         ...      ...  ...      ...   \n",
      "518    Oliver McBurnie  Sheffield United         SCO       FW   24       23   \n",
      "521         Kean Bryan  Sheffield United         ENG       DF   23       13   \n",
      "524           Max Lowe  Sheffield United         ENG       DF   23        8   \n",
      "527        Lys Mousset  Sheffield United         FRA    FW,MF   24       11   \n",
      "529      Iliman Ndiaye  Sheffield United         FRA       MF   21        1   \n",
      "\n",
      "     Starts  Mins  Goals  Assists  Passes_Attempted  Perc_Passes_Completed  \\\n",
      "0        32  2890      6        5              1881                   82.3   \n",
      "2        29  2602      6        8               826                   77.2   \n",
      "3        27  2286      3        5              1806                   78.6   \n",
      "9        22  2029      5        0              1720                   91.9   \n",
      "12       18  1738      4        2               690                   80.0   \n",
      "..      ...   ...    ...      ...               ...                    ...   \n",
      "518      12  1324      1        0               426                   62.9   \n",
      "521      12  1004      1        0               443                   72.9   \n",
      "524       7   550      0        0               223                   65.0   \n",
      "527       2   296      0        0                50                   80.0   \n",
      "529       0    12      0        0                 3                  100.0   \n",
      "\n",
      "     Penalty_Goals  Penalty_Attempted    xG    xA  Yellow_Cards  Red_Cards  \\\n",
      "0                1                  1  0.21  0.24             2          0   \n",
      "2                0                  0  0.41  0.21             2          0   \n",
      "3                0                  0  0.10  0.11             3          0   \n",
      "9                0                  0  0.08  0.00             3          0   \n",
      "12               0                  0  0.28  0.14             2          0   \n",
      "..             ...                ...   ...   ...           ...        ...   \n",
      "518              0                  0  0.21  0.07             2          0   \n",
      "521              0                  0  0.04  0.03             1          0   \n",
      "524              0                  0  0.01  0.03             1          0   \n",
      "527              0                  0  0.22  0.10             0          0   \n",
      "529              0                  0  0.00  0.00             0          0   \n",
      "\n",
      "      Age_groups  \n",
      "0    21-25 years  \n",
      "2    21-25 years  \n",
      "3    21-25 years  \n",
      "9    21-25 years  \n",
      "12   21-25 years  \n",
      "..           ...  \n",
      "518  21-25 years  \n",
      "521  21-25 years  \n",
      "524  21-25 years  \n",
      "527  21-25 years  \n",
      "529  21-25 years  \n",
      "\n",
      "[186 rows x 19 columns]\n"
     ]
    }
   ],
   "source": [
    "## between 21-25 years players by teams\n",
    " \n",
    "\n",
    "u25_players=epl[(epl['Age']>= 21) & (epl['Age']<=25)]\n",
    "print(u25_players)\n"
   ]
  },
  {
   "cell_type": "code",
   "execution_count": 188,
   "id": "13c1ceb6",
   "metadata": {},
   "outputs": [
    {
     "name": "stdout",
     "output_type": "stream",
     "text": [
      "Club\n",
      "Fulham                     14\n",
      "Aston Villa                14\n",
      "Chelsea                    12\n",
      "Leicester City             12\n",
      "Arsenal                    11\n",
      "Manchester United          11\n",
      "Brighton                   11\n",
      "Tottenham Hotspur          11\n",
      "Southampton                11\n",
      "West Bromwich Albion       10\n",
      "Everton                    10\n",
      "Sheffield United            9\n",
      "Liverpool FC                9\n",
      "Manchester City             8\n",
      "Wolverhampton Wanderers     8\n",
      "Newcastle United            7\n",
      "West Ham United             6\n",
      "Leeds United                5\n",
      "Burnley                     4\n",
      "Crystal Palace              3\n",
      "Name: Name, dtype: int64\n"
     ]
    }
   ],
   "source": [
    "## players between 20 & 25 years by club\n",
    "## Under 20 years players by teams\n",
    "u25=u25_players.groupby('Club')['Name'].count()\n",
    "print(u25.sort_values(ascending=False))"
   ]
  },
  {
   "cell_type": "code",
   "execution_count": 385,
   "id": "27238802",
   "metadata": {},
   "outputs": [
    {
     "data": {
      "image/png": "[encoded data removed]",
      "text/plain": [
       "<Figure size 1080x504 with 1 Axes>"
      ]
     },
     "metadata": {},
     "output_type": "display_data"
    }
   ],
   "source": [
    "plt.figure(figsize=(15,7))\n",
    "u25.sort_values(ascending=False).plot(kind='bar')\n",
    "plt.xlabel(\"EPL Clubs\")\n",
    "plt.ylabel(\"Number of players\")\n",
    "plt.title(\"Number of player between 21 & 25 years by club\")\n",
    "plt.show()"
   ]
  },
  {
   "cell_type": "code",
   "execution_count": 194,
   "id": "6572501a",
   "metadata": {},
   "outputs": [
    {
     "name": "stdout",
     "output_type": "stream",
     "text": [
      "                   Name              Club Nationality Position  Age  Matches  \\\n",
      "1         Edouard Mendy           Chelsea         SEN       GK   28       31   \n",
      "5    CÃ©sar Azpilicueta           Chelsea         ESP       DF   30       26   \n",
      "6         N'Golo KantÃ©           Chelsea         FRA       MF   29       30   \n",
      "7              Jorginho           Chelsea         ITA       MF   28       28   \n",
      "10      Mateo KovaÄiÄ‡           Chelsea         CRO       MF   26       27   \n",
      "..                  ...               ...         ...      ...  ...      ...   \n",
      "510          John Fleck  Sheffield United         SCO       MF   28       31   \n",
      "512      Oliver Norwood  Sheffield United         NIR       MF   29       32   \n",
      "514      John Lundstram  Sheffield United         ENG       MF   26       28   \n",
      "522       Jack Robinson  Sheffield United         ENG       DF   26       11   \n",
      "528      Jack O'Connell  Sheffield United         ENG       DF   26        2   \n",
      "\n",
      "     Starts  Mins  Goals  Assists  Passes_Attempted  Perc_Passes_Completed  \\\n",
      "1        31  2745      0        0              1007                   84.6   \n",
      "5        24  2188      1        2              2015                   87.5   \n",
      "6        24  2146      0        2              1504                   86.6   \n",
      "7        23  2010      7        1              1739                   89.5   \n",
      "10       21  1815      0        1              1737                   91.0   \n",
      "..      ...   ...    ...      ...               ...                    ...   \n",
      "510      29  2575      0        2              1212                   78.1   \n",
      "512      26  2220      0        0              1483                   79.6   \n",
      "514      23  2032      0        2              1041                   81.0   \n",
      "522       9   877      0        1               439                   80.6   \n",
      "528       2   180      0        0                77                   77.9   \n",
      "\n",
      "     Penalty_Goals  Penalty_Attempted    xG    xA  Yellow_Cards  Red_Cards  \\\n",
      "1                0                  0  0.00  0.00             2          0   \n",
      "5                0                  0  0.03  0.11             5          1   \n",
      "6                0                  0  0.04  0.05             7          0   \n",
      "7                7                  9  0.31  0.09             2          0   \n",
      "10               0                  0  0.05  0.09             4          0   \n",
      "..             ...                ...   ...   ...           ...        ...   \n",
      "510              0                  0  0.03  0.09             4          0   \n",
      "512              0                  0  0.02  0.07             6          0   \n",
      "514              0                  1  0.09  0.05             8          1   \n",
      "522              0                  0  0.04  0.09             3          0   \n",
      "528              0                  0  0.00  0.00             0          0   \n",
      "\n",
      "      Age_groups  \n",
      "1    26-30 years  \n",
      "5    26-30 years  \n",
      "6    26-30 years  \n",
      "7    26-30 years  \n",
      "10   26-30 years  \n",
      "..           ...  \n",
      "510  26-30 years  \n",
      "512  26-30 years  \n",
      "514  26-30 years  \n",
      "522  26-30 years  \n",
      "528  26-30 years  \n",
      "\n",
      "[197 rows x 19 columns]\n"
     ]
    }
   ],
   "source": [
    "### players between 26 to 30 years by club\n",
    "u30_players=epl[(epl['Age']>= 26) & (epl['Age']<=30)]\n",
    "print(u30_players)\n",
    "\n"
   ]
  },
  {
   "cell_type": "code",
   "execution_count": 312,
   "id": "c82fb336",
   "metadata": {},
   "outputs": [
    {
     "name": "stdout",
     "output_type": "stream",
     "text": [
      "Club\n",
      "Crystal Palace             15\n",
      "Newcastle United           14\n",
      "Liverpool FC               13\n",
      "Everton                    13\n",
      "Burnley                    12\n",
      "West Ham United            12\n",
      "Brighton                   11\n",
      "West Bromwich Albion       11\n",
      "Arsenal                    10\n",
      "Fulham                     10\n",
      "Manchester City             9\n",
      "Leeds United                9\n",
      "Tottenham Hotspur           9\n",
      "Chelsea                     9\n",
      "Sheffield United            8\n",
      "Southampton                 8\n",
      "Manchester United           7\n",
      "Wolverhampton Wanderers     7\n",
      "Leicester City              5\n",
      "Aston Villa                 5\n",
      "Name: Name, dtype: int64\n"
     ]
    }
   ],
   "source": [
    "\n",
    "##the no. of players between 26 & 30 by club\n",
    "u30=u30_players.groupby('Club')['Name'].count()\n",
    "print(u30.sort_values(ascending=False))\n"
   ]
  },
  {
   "cell_type": "code",
   "execution_count": 204,
   "id": "57cdc057",
   "metadata": {},
   "outputs": [
    {
     "name": "stdout",
     "output_type": "stream",
     "text": [
      "                    Name                  Club Nationality Position  Age  \\\n",
      "22       Willy Caballero               Chelsea         ARG       GK   38   \n",
      "133           Wes Morgan        Leicester City         JAM       DF   36   \n",
      "493  Branislav IvanoviÄ‡  West Bromwich Albion         SRB       DF   36   \n",
      "525        Phil Jagielka      Sheffield United         ENG       DF   37   \n",
      "\n",
      "     Matches  Starts  Mins  Goals  Assists  Passes_Attempted  \\\n",
      "22         1       1    90      0        0                26   \n",
      "133        3       0    18      0        0                 5   \n",
      "493       13       8   767      0        0               311   \n",
      "525       10       6   526      0        0               186   \n",
      "\n",
      "     Perc_Passes_Completed  Penalty_Goals  Penalty_Attempted    xG    xA  \\\n",
      "22                    92.3              0                  0  0.00  0.00   \n",
      "133                  100.0              0                  0  0.00  0.00   \n",
      "493                   85.2              0                  0  0.06  0.01   \n",
      "525                   76.3              0                  0  0.00  0.00   \n",
      "\n",
      "     Yellow_Cards  Red_Cards   Age_groups  \n",
      "22              0          0  36-40 years  \n",
      "133             0          0  36-40 years  \n",
      "493             2          0  36-40 years  \n",
      "525             1          1  36-40 years  \n"
     ]
    }
   ],
   "source": [
    "### players between 26 to 30 years by club\n",
    "u40_players=epl[(epl['Age']>= 36) & (epl['Age']<=40)]\n",
    "print(u40_players)\n",
    "\n"
   ]
  },
  {
   "cell_type": "code",
   "execution_count": 202,
   "id": "f6976a80",
   "metadata": {},
   "outputs": [
    {
     "name": "stdout",
     "output_type": "stream",
     "text": [
      "Club\n",
      "Chelsea                 1\n",
      "Leicester City          1\n",
      "Sheffield United        1\n",
      "West Bromwich Albion    1\n",
      "Name: Name, dtype: int64\n"
     ]
    }
   ],
   "source": [
    "##the no. of players between 26 & 30 by club\n",
    "u40=u40_players.groupby('Club')['Name'].count()\n",
    "print(u40.sort_values(ascending=False))\n",
    "\n"
   ]
  },
  {
   "cell_type": "code",
   "execution_count": 203,
   "id": "7b8d884b",
   "metadata": {},
   "outputs": [
    {
     "data": {
      "text/plain": [
       "Text(0.5, 1.0, 'No of player between 36 & 40 years by club')"
      ]
     },
     "execution_count": 203,
     "metadata": {},
     "output_type": "execute_result"
    },
    {
     "data": {
      "image/png": "[encoded data removed]",
      "text/plain": [
       "<Figure size 432x288 with 1 Axes>"
      ]
     },
     "metadata": {},
     "output_type": "display_data"
    }
   ],
   "source": [
    "u40.sort_values(ascending=False).plot(kind='bar')\n",
    "plt.xlabel('Club')\n",
    "plt.ylabel(\"No. of players\")\n",
    "plt.title(\"No of player between 36 & 40 years by club\")"
   ]
  },
  {
   "cell_type": "code",
   "execution_count": 209,
   "id": "0fa9f48d",
   "metadata": {},
   "outputs": [
    {
     "name": "stdout",
     "output_type": "stream",
     "text": [
      "Club\n",
      "Crystal Palace             28.333333\n",
      "West Ham United            27.500000\n",
      "Burnley                    27.040000\n",
      "West Bromwich Albion       26.766667\n",
      "Newcastle United           26.074074\n",
      "Manchester City            25.708333\n",
      "Tottenham Hotspur          25.625000\n",
      "Chelsea                    25.592593\n",
      "Leicester City             25.592593\n",
      "Liverpool FC               25.571429\n",
      "Everton                    25.413793\n",
      "Leeds United               25.347826\n",
      "Fulham                     25.035714\n",
      "Arsenal                    24.965517\n",
      "Sheffield United           24.814815\n",
      "Brighton                   24.555556\n",
      "Wolverhampton Wanderers    24.444444\n",
      "Aston Villa                24.291667\n",
      "Southampton                24.137931\n",
      "Manchester United          23.862069\n",
      "Name: Age, dtype: float64\n"
     ]
    }
   ],
   "source": [
    "## Arrange the teams according to the age of their squads in descending order\n",
    "\n",
    "avg_age=epl.groupby('Club')['Age'].mean()\n",
    "print(avg_age.sort_values(ascending=False))"
   ]
  },
  {
   "cell_type": "code",
   "execution_count": 250,
   "id": "c1d916c7",
   "metadata": {},
   "outputs": [
    {
     "name": "stdout",
     "output_type": "stream",
     "text": [
      "                      Name               Club  Goals  Assists\n",
      "162             Harry Kane  Tottenham Hotspur     23       14\n",
      "81           Mohamed Salah       Liverpool FC     22        5\n",
      "51         Bruno Fernandes  Manchester United     18       12\n",
      "214        Patrick Bamford       Leeds United     17        7\n",
      "161          Son Heung-min  Tottenham Hotspur     17       10\n",
      "237  Dominic Calvert-Lewin            Everton     16        0\n",
      "110            Jamie Vardy     Leicester City     15        9\n",
      "267          Ollie Watkins        Aston Villa     14        5\n",
      "33       Ä°lkay GÃ¼ndoÄŸan    Manchester City     13        2\n",
      "191    Alexandre Lacazette            Arsenal     13        2\n",
      "428             Chris Wood            Burnley     12        3\n",
      "374             Danny Ings        Southampton     12        4\n",
      "120      Kelechi Iheanacho     Leicester City     12        2\n",
      "292          Callum Wilson   Newcastle United     12        5\n",
      "54         Marcus Rashford  Manchester United     11        9\n"
     ]
    }
   ],
   "source": [
    "GA=epl[['Name', 'Club', 'Goals', 'Assists']]\n",
    "GA_sorted=GA.sort_values('Goals', ascending=False).head(15)\n",
    "print(GA_sorted)"
   ]
  },
  {
   "cell_type": "code",
   "execution_count": 386,
   "id": "cd0c8ccb",
   "metadata": {},
   "outputs": [
    {
     "data": {
      "text/plain": [
       "<Figure size 1080x504 with 0 Axes>"
      ]
     },
     "metadata": {},
     "output_type": "display_data"
    },
    {
     "data": {
      "image/png": "[encoded data removed]",
      "text/plain": [
       "<Figure size 496.25x360 with 1 Axes>"
      ]
     },
     "metadata": {},
     "output_type": "display_data"
    }
   ],
   "source": [
    "plt.figure(figsize=(15,7))\n",
    "sns.set_style(\"darkgrid\")\n",
    "sns.relplot(x='Assists',\n",
    "            y='Goals',\n",
    "           data=GA_sorted,\n",
    "           kind='scatter',\n",
    "           hue='Name')\n",
    "plt.xlabel(\"Goals scored\")\n",
    "plt.ylabel(\"Assists provided\")\n",
    "plt.title(\"Goals & Assists player comparison\")\n",
    "plt.show()"
   ]
  },
  {
   "cell_type": "code",
   "execution_count": 246,
   "id": "4fecc14d",
   "metadata": {},
   "outputs": [
    {
     "name": "stdout",
     "output_type": "stream",
     "text": [
      "                      Name                  Club  Goals  Assists\n",
      "162             Harry Kane     Tottenham Hotspur     23       14\n",
      "81           Mohamed Salah          Liverpool FC     22        5\n",
      "51         Bruno Fernandes     Manchester United     18       12\n",
      "214        Patrick Bamford          Leeds United     17        7\n",
      "161          Son Heung-min     Tottenham Hotspur     17       10\n",
      "237  Dominic Calvert-Lewin               Everton     16        0\n",
      "110            Jamie Vardy        Leicester City     15        9\n",
      "267          Ollie Watkins           Aston Villa     14        5\n",
      "33       Ä°lkay GÃ¼ndoÄŸan       Manchester City     13        2\n",
      "191    Alexandre Lacazette               Arsenal     13        2\n",
      "428             Chris Wood               Burnley     12        3\n",
      "374             Danny Ings           Southampton     12        4\n",
      "120      Kelechi Iheanacho        Leicester City     12        2\n",
      "292          Callum Wilson      Newcastle United     12        5\n",
      "54         Marcus Rashford     Manchester United     11        9\n",
      "175            Gareth Bale     Tottenham Hotspur     11        2\n",
      "86             Sadio ManÃ©          Liverpool FC     11        7\n",
      "344          Wilfried Zaha        Crystal Palace     11        2\n",
      "478        Matheus Pereira  West Bromwich Albion     11        6\n",
      "30         Raheem Sterling       Manchester City     10        7\n"
     ]
    }
   ],
   "source": [
    "top_scorers=epl[['Name', 'Club', 'Goals', 'Assists']]\n",
    "print(top_scorers.sort_values('Goals', ascending=False).head(15))"
   ]
  },
  {
   "cell_type": "code",
   "execution_count": 387,
   "id": "f571fd5f",
   "metadata": {},
   "outputs": [
    {
     "data": {
      "text/plain": [
       "<Figure size 1080x504 with 0 Axes>"
      ]
     },
     "metadata": {},
     "output_type": "display_data"
    },
    {
     "data": {
      "image/png": "[encoded data removed]",
      "text/plain": [
       "<Figure size 360x360 with 1 Axes>"
      ]
     },
     "metadata": {},
     "output_type": "display_data"
    }
   ],
   "source": [
    "# visualize the top scorers data in a bar chart\n",
    "plt.figure(figsize=(15,7))\n",
    "g=sns.catplot(x='Name',\n",
    "           y='Goals',\n",
    "            kind='bar',\n",
    "           data=top_scorers.sort_values('Goals', ascending=False).head(20))\n",
    "plt.xticks(rotation=90)\n",
    "g.set(xlabel=\"Player Name\",\n",
    "     ylabel=\"Number of goals\",\n",
    "     title=\"Top scorers 2020/2021 season\")\n",
    "plt.show()\n",
    "        \n"
   ]
  },
  {
   "cell_type": "markdown",
   "id": "aa4d9edc",
   "metadata": {},
   "source": [
    "## Aggression"
   ]
  },
  {
   "cell_type": "code",
   "execution_count": 257,
   "id": "e6862caf",
   "metadata": {},
   "outputs": [
    {
     "name": "stdout",
     "output_type": "stream",
     "text": [
      "<class 'pandas.core.frame.DataFrame'>\n",
      "RangeIndex: 532 entries, 0 to 531\n",
      "Data columns (total 19 columns):\n",
      " #   Column                 Non-Null Count  Dtype   \n",
      "---  ------                 --------------  -----   \n",
      " 0   Name                   532 non-null    object  \n",
      " 1   Club                   532 non-null    object  \n",
      " 2   Nationality            532 non-null    object  \n",
      " 3   Position               532 non-null    object  \n",
      " 4   Age                    532 non-null    int64   \n",
      " 5   Matches                532 non-null    int64   \n",
      " 6   Starts                 532 non-null    int64   \n",
      " 7   Mins                   532 non-null    int64   \n",
      " 8   Goals                  532 non-null    int64   \n",
      " 9   Assists                532 non-null    int64   \n",
      " 10  Passes_Attempted       532 non-null    int64   \n",
      " 11  Perc_Passes_Completed  532 non-null    float64 \n",
      " 12  Penalty_Goals          532 non-null    int64   \n",
      " 13  Penalty_Attempted      532 non-null    int64   \n",
      " 14  xG                     532 non-null    float64 \n",
      " 15  xA                     532 non-null    float64 \n",
      " 16  Yellow_Cards           532 non-null    int64   \n",
      " 17  Red_Cards              532 non-null    int64   \n",
      " 18  Age_groups             528 non-null    category\n",
      "dtypes: category(1), float64(3), int64(11), object(4)\n",
      "memory usage: 75.7+ KB\n"
     ]
    }
   ],
   "source": [
    "epl.info()"
   ]
  },
  {
   "cell_type": "code",
   "execution_count": 292,
   "id": "feb62cc4",
   "metadata": {},
   "outputs": [
    {
     "name": "stdout",
     "output_type": "stream",
     "text": [
      "      Club  Yellow_Cards  Red_Cards\n",
      "0  Chelsea             2          0\n",
      "1  Chelsea             2          0\n",
      "2  Chelsea             2          0\n",
      "3  Chelsea             3          0\n",
      "4  Chelsea             3          0\n"
     ]
    }
   ],
   "source": [
    "aggression=epl[['Club', 'Yellow_Cards', 'Red_Cards']]\n",
    "print(aggression.head())\n"
   ]
  },
  {
   "cell_type": "code",
   "execution_count": 291,
   "id": "7506d44b",
   "metadata": {},
   "outputs": [
    {
     "data": {
      "text/plain": [
       "Club\n",
       "Sheffield United           73\n",
       "Aston Villa                71\n",
       "Fulham                     67\n",
       "Newcastle United           65\n",
       "Manchester United          64\n",
       "Leeds United               61\n",
       "Leicester City             61\n",
       "Everton                    59\n",
       "Tottenham Hotspur          57\n",
       "Crystal Palace             56\n",
       "Wolverhampton Wanderers    55\n",
       "Southampton                52\n",
       "West Bromwich Albion       51\n",
       "Chelsea                    51\n",
       "West Ham United            50\n",
       "Arsenal                    49\n",
       "Brighton                   49\n",
       "Burnley                    48\n",
       "Manchester City            46\n",
       "Liverpool FC               40\n",
       "Name: Yellow_Cards, dtype: int64"
      ]
     },
     "execution_count": 291,
     "metadata": {},
     "output_type": "execute_result"
    }
   ],
   "source": [
    "# group the Clubs according to the number of Yellow cards their players received\n",
    "# sort the clubs with the yellow cards recieved in descending order\n",
    "yellow_cards_grouped=aggression.groupby('Club')['Yellow_Cards'].sum()\n",
    "yellow_cards_grouped.sort_values(ascending=False)"
   ]
  },
  {
   "cell_type": "code",
   "execution_count": 295,
   "id": "bc1d49a6",
   "metadata": {},
   "outputs": [
    {
     "data": {
      "text/html": [
       "<div>\n",
       "<style scoped>\n",
       "    .dataframe tbody tr th:only-of-type {\n",
       "        vertical-align: middle;\n",
       "    }\n",
       "\n",
       "    .dataframe tbody tr th {\n",
       "        vertical-align: top;\n",
       "    }\n",
       "\n",
       "    .dataframe thead th {\n",
       "        text-align: right;\n",
       "    }\n",
       "</style>\n",
       "<table border=\"1\" class=\"dataframe\">\n",
       "  <thead>\n",
       "    <tr style=\"text-align: right;\">\n",
       "      <th></th>\n",
       "      <th>Yellow_Cards</th>\n",
       "      <th>Red_Cards</th>\n",
       "    </tr>\n",
       "    <tr>\n",
       "      <th>Club</th>\n",
       "      <th></th>\n",
       "      <th></th>\n",
       "    </tr>\n",
       "  </thead>\n",
       "  <tbody>\n",
       "    <tr>\n",
       "      <th>Sheffield United</th>\n",
       "      <td>73</td>\n",
       "      <td>3</td>\n",
       "    </tr>\n",
       "    <tr>\n",
       "      <th>Aston Villa</th>\n",
       "      <td>71</td>\n",
       "      <td>4</td>\n",
       "    </tr>\n",
       "    <tr>\n",
       "      <th>Fulham</th>\n",
       "      <td>67</td>\n",
       "      <td>3</td>\n",
       "    </tr>\n",
       "    <tr>\n",
       "      <th>Newcastle United</th>\n",
       "      <td>65</td>\n",
       "      <td>3</td>\n",
       "    </tr>\n",
       "    <tr>\n",
       "      <th>Manchester United</th>\n",
       "      <td>64</td>\n",
       "      <td>1</td>\n",
       "    </tr>\n",
       "    <tr>\n",
       "      <th>Leeds United</th>\n",
       "      <td>61</td>\n",
       "      <td>1</td>\n",
       "    </tr>\n",
       "    <tr>\n",
       "      <th>Leicester City</th>\n",
       "      <td>61</td>\n",
       "      <td>0</td>\n",
       "    </tr>\n",
       "    <tr>\n",
       "      <th>Everton</th>\n",
       "      <td>59</td>\n",
       "      <td>2</td>\n",
       "    </tr>\n",
       "    <tr>\n",
       "      <th>Tottenham Hotspur</th>\n",
       "      <td>57</td>\n",
       "      <td>2</td>\n",
       "    </tr>\n",
       "    <tr>\n",
       "      <th>Crystal Palace</th>\n",
       "      <td>56</td>\n",
       "      <td>2</td>\n",
       "    </tr>\n",
       "    <tr>\n",
       "      <th>Wolverhampton Wanderers</th>\n",
       "      <td>55</td>\n",
       "      <td>1</td>\n",
       "    </tr>\n",
       "    <tr>\n",
       "      <th>Southampton</th>\n",
       "      <td>52</td>\n",
       "      <td>3</td>\n",
       "    </tr>\n",
       "    <tr>\n",
       "      <th>West Bromwich Albion</th>\n",
       "      <td>51</td>\n",
       "      <td>4</td>\n",
       "    </tr>\n",
       "    <tr>\n",
       "      <th>Chelsea</th>\n",
       "      <td>51</td>\n",
       "      <td>3</td>\n",
       "    </tr>\n",
       "    <tr>\n",
       "      <th>West Ham United</th>\n",
       "      <td>50</td>\n",
       "      <td>3</td>\n",
       "    </tr>\n",
       "    <tr>\n",
       "      <th>Arsenal</th>\n",
       "      <td>49</td>\n",
       "      <td>5</td>\n",
       "    </tr>\n",
       "    <tr>\n",
       "      <th>Brighton</th>\n",
       "      <td>49</td>\n",
       "      <td>6</td>\n",
       "    </tr>\n",
       "    <tr>\n",
       "      <th>Burnley</th>\n",
       "      <td>48</td>\n",
       "      <td>0</td>\n",
       "    </tr>\n",
       "    <tr>\n",
       "      <th>Manchester City</th>\n",
       "      <td>46</td>\n",
       "      <td>2</td>\n",
       "    </tr>\n",
       "    <tr>\n",
       "      <th>Liverpool FC</th>\n",
       "      <td>40</td>\n",
       "      <td>0</td>\n",
       "    </tr>\n",
       "  </tbody>\n",
       "</table>\n",
       "</div>"
      ],
      "text/plain": [
       "                         Yellow_Cards  Red_Cards\n",
       "Club                                            \n",
       "Sheffield United                   73          3\n",
       "Aston Villa                        71          4\n",
       "Fulham                             67          3\n",
       "Newcastle United                   65          3\n",
       "Manchester United                  64          1\n",
       "Leeds United                       61          1\n",
       "Leicester City                     61          0\n",
       "Everton                            59          2\n",
       "Tottenham Hotspur                  57          2\n",
       "Crystal Palace                     56          2\n",
       "Wolverhampton Wanderers            55          1\n",
       "Southampton                        52          3\n",
       "West Bromwich Albion               51          4\n",
       "Chelsea                            51          3\n",
       "West Ham United                    50          3\n",
       "Arsenal                            49          5\n",
       "Brighton                           49          6\n",
       "Burnley                            48          0\n",
       "Manchester City                    46          2\n",
       "Liverpool FC                       40          0"
      ]
     },
     "execution_count": 295,
     "metadata": {},
     "output_type": "execute_result"
    }
   ],
   "source": [
    "cards_grouped=aggression.groupby('Club')[['Yellow_Cards', 'Red_Cards']].sum()\n",
    "cards_grouped.sort_values(by='Yellow_Cards', ascending=False)"
   ]
  },
  {
   "cell_type": "code",
   "execution_count": 388,
   "id": "2fbf655e",
   "metadata": {},
   "outputs": [
    {
     "data": {
      "text/plain": [
       "<Figure size 1080x504 with 0 Axes>"
      ]
     },
     "metadata": {},
     "output_type": "display_data"
    },
    {
     "data": {
      "image/png": "[encoded data removed]",
      "text/plain": [
       "<Figure size 432x288 with 1 Axes>"
      ]
     },
     "metadata": {},
     "output_type": "display_data"
    }
   ],
   "source": [
    "plt.figure(figsize=(15,7))\n",
    "cards_grouped.sort_values(by='Yellow_Cards', ascending=False).plot(kind='bar')\n",
    "plt.xlabel(\"Number of Cards\")\n",
    "plt.ylabel('Club Name')\n",
    "plt.title('Number of cards by club')\n",
    "plt.show()"
   ]
  },
  {
   "cell_type": "code",
   "execution_count": 342,
   "id": "39f48065",
   "metadata": {},
   "outputs": [
    {
     "data": {
      "text/html": [
       "<div>\n",
       "<style scoped>\n",
       "    .dataframe tbody tr th:only-of-type {\n",
       "        vertical-align: middle;\n",
       "    }\n",
       "\n",
       "    .dataframe tbody tr th {\n",
       "        vertical-align: top;\n",
       "    }\n",
       "\n",
       "    .dataframe thead th {\n",
       "        text-align: right;\n",
       "    }\n",
       "</style>\n",
       "<table border=\"1\" class=\"dataframe\">\n",
       "  <thead>\n",
       "    <tr style=\"text-align: right;\">\n",
       "      <th></th>\n",
       "      <th>Name</th>\n",
       "      <th>Club</th>\n",
       "      <th>Nationality</th>\n",
       "      <th>Position</th>\n",
       "      <th>Age</th>\n",
       "      <th>Matches</th>\n",
       "      <th>Starts</th>\n",
       "      <th>Mins</th>\n",
       "      <th>Goals</th>\n",
       "      <th>Assists</th>\n",
       "      <th>Passes_Attempted</th>\n",
       "      <th>Perc_Passes_Completed</th>\n",
       "      <th>Penalty_Goals</th>\n",
       "      <th>Penalty_Attempted</th>\n",
       "      <th>xG</th>\n",
       "      <th>xA</th>\n",
       "      <th>Yellow_Cards</th>\n",
       "      <th>Red_Cards</th>\n",
       "      <th>Age_groups</th>\n",
       "      <th>goals_per_match</th>\n",
       "    </tr>\n",
       "  </thead>\n",
       "  <tbody>\n",
       "    <tr>\n",
       "      <th>0</th>\n",
       "      <td>Mason Mount</td>\n",
       "      <td>Chelsea</td>\n",
       "      <td>ENG</td>\n",
       "      <td>MF,FW</td>\n",
       "      <td>21</td>\n",
       "      <td>36</td>\n",
       "      <td>32</td>\n",
       "      <td>2890</td>\n",
       "      <td>6</td>\n",
       "      <td>5</td>\n",
       "      <td>1881</td>\n",
       "      <td>82.3</td>\n",
       "      <td>1</td>\n",
       "      <td>1</td>\n",
       "      <td>0.21</td>\n",
       "      <td>0.24</td>\n",
       "      <td>2</td>\n",
       "      <td>0</td>\n",
       "      <td>21-25 years</td>\n",
       "      <td>0.166667</td>\n",
       "    </tr>\n",
       "    <tr>\n",
       "      <th>1</th>\n",
       "      <td>Edouard Mendy</td>\n",
       "      <td>Chelsea</td>\n",
       "      <td>SEN</td>\n",
       "      <td>GK</td>\n",
       "      <td>28</td>\n",
       "      <td>31</td>\n",
       "      <td>31</td>\n",
       "      <td>2745</td>\n",
       "      <td>0</td>\n",
       "      <td>0</td>\n",
       "      <td>1007</td>\n",
       "      <td>84.6</td>\n",
       "      <td>0</td>\n",
       "      <td>0</td>\n",
       "      <td>0.00</td>\n",
       "      <td>0.00</td>\n",
       "      <td>2</td>\n",
       "      <td>0</td>\n",
       "      <td>26-30 years</td>\n",
       "      <td>0.000000</td>\n",
       "    </tr>\n",
       "    <tr>\n",
       "      <th>2</th>\n",
       "      <td>Timo Werner</td>\n",
       "      <td>Chelsea</td>\n",
       "      <td>GER</td>\n",
       "      <td>FW</td>\n",
       "      <td>24</td>\n",
       "      <td>35</td>\n",
       "      <td>29</td>\n",
       "      <td>2602</td>\n",
       "      <td>6</td>\n",
       "      <td>8</td>\n",
       "      <td>826</td>\n",
       "      <td>77.2</td>\n",
       "      <td>0</td>\n",
       "      <td>0</td>\n",
       "      <td>0.41</td>\n",
       "      <td>0.21</td>\n",
       "      <td>2</td>\n",
       "      <td>0</td>\n",
       "      <td>21-25 years</td>\n",
       "      <td>0.171429</td>\n",
       "    </tr>\n",
       "    <tr>\n",
       "      <th>3</th>\n",
       "      <td>Ben Chilwell</td>\n",
       "      <td>Chelsea</td>\n",
       "      <td>ENG</td>\n",
       "      <td>DF</td>\n",
       "      <td>23</td>\n",
       "      <td>27</td>\n",
       "      <td>27</td>\n",
       "      <td>2286</td>\n",
       "      <td>3</td>\n",
       "      <td>5</td>\n",
       "      <td>1806</td>\n",
       "      <td>78.6</td>\n",
       "      <td>0</td>\n",
       "      <td>0</td>\n",
       "      <td>0.10</td>\n",
       "      <td>0.11</td>\n",
       "      <td>3</td>\n",
       "      <td>0</td>\n",
       "      <td>21-25 years</td>\n",
       "      <td>0.111111</td>\n",
       "    </tr>\n",
       "    <tr>\n",
       "      <th>4</th>\n",
       "      <td>Reece James</td>\n",
       "      <td>Chelsea</td>\n",
       "      <td>ENG</td>\n",
       "      <td>DF</td>\n",
       "      <td>20</td>\n",
       "      <td>32</td>\n",
       "      <td>25</td>\n",
       "      <td>2373</td>\n",
       "      <td>1</td>\n",
       "      <td>2</td>\n",
       "      <td>1987</td>\n",
       "      <td>85.0</td>\n",
       "      <td>0</td>\n",
       "      <td>0</td>\n",
       "      <td>0.06</td>\n",
       "      <td>0.12</td>\n",
       "      <td>3</td>\n",
       "      <td>0</td>\n",
       "      <td>16-20 years</td>\n",
       "      <td>0.031250</td>\n",
       "    </tr>\n",
       "  </tbody>\n",
       "</table>\n",
       "</div>"
      ],
      "text/plain": [
       "            Name     Club Nationality Position  Age  Matches  Starts  Mins  \\\n",
       "0    Mason Mount  Chelsea         ENG    MF,FW   21       36      32  2890   \n",
       "1  Edouard Mendy  Chelsea         SEN       GK   28       31      31  2745   \n",
       "2    Timo Werner  Chelsea         GER       FW   24       35      29  2602   \n",
       "3   Ben Chilwell  Chelsea         ENG       DF   23       27      27  2286   \n",
       "4    Reece James  Chelsea         ENG       DF   20       32      25  2373   \n",
       "\n",
       "   Goals  Assists  Passes_Attempted  Perc_Passes_Completed  Penalty_Goals  \\\n",
       "0      6        5              1881                   82.3              1   \n",
       "1      0        0              1007                   84.6              0   \n",
       "2      6        8               826                   77.2              0   \n",
       "3      3        5              1806                   78.6              0   \n",
       "4      1        2              1987                   85.0              0   \n",
       "\n",
       "   Penalty_Attempted    xG    xA  Yellow_Cards  Red_Cards   Age_groups  \\\n",
       "0                  1  0.21  0.24             2          0  21-25 years   \n",
       "1                  0  0.00  0.00             2          0  26-30 years   \n",
       "2                  0  0.41  0.21             2          0  21-25 years   \n",
       "3                  0  0.10  0.11             3          0  21-25 years   \n",
       "4                  0  0.06  0.12             3          0  16-20 years   \n",
       "\n",
       "   goals_per_match  \n",
       "0         0.166667  \n",
       "1         0.000000  \n",
       "2         0.171429  \n",
       "3         0.111111  \n",
       "4         0.031250  "
      ]
     },
     "execution_count": 342,
     "metadata": {},
     "output_type": "execute_result"
    }
   ],
   "source": [
    "#create a new colum to assess the goals per match for the players\n",
    "epl['goals_per_match']=epl['Goals']/epl['Matches']\n",
    "epl.head()"
   ]
  },
  {
   "cell_type": "code",
   "execution_count": 323,
   "id": "5b3a4bce",
   "metadata": {},
   "outputs": [
    {
     "data": {
      "text/html": [
       "<div>\n",
       "<style scoped>\n",
       "    .dataframe tbody tr th:only-of-type {\n",
       "        vertical-align: middle;\n",
       "    }\n",
       "\n",
       "    .dataframe tbody tr th {\n",
       "        vertical-align: top;\n",
       "    }\n",
       "\n",
       "    .dataframe thead th {\n",
       "        text-align: right;\n",
       "    }\n",
       "</style>\n",
       "<table border=\"1\" class=\"dataframe\">\n",
       "  <thead>\n",
       "    <tr style=\"text-align: right;\">\n",
       "      <th></th>\n",
       "      <th>Name</th>\n",
       "      <th>Club</th>\n",
       "      <th>Position</th>\n",
       "      <th>goals_per_match</th>\n",
       "    </tr>\n",
       "  </thead>\n",
       "  <tbody>\n",
       "    <tr>\n",
       "      <th>0</th>\n",
       "      <td>Mason Mount</td>\n",
       "      <td>Chelsea</td>\n",
       "      <td>MF,FW</td>\n",
       "      <td>0.166667</td>\n",
       "    </tr>\n",
       "    <tr>\n",
       "      <th>1</th>\n",
       "      <td>Edouard Mendy</td>\n",
       "      <td>Chelsea</td>\n",
       "      <td>GK</td>\n",
       "      <td>0.000000</td>\n",
       "    </tr>\n",
       "    <tr>\n",
       "      <th>2</th>\n",
       "      <td>Timo Werner</td>\n",
       "      <td>Chelsea</td>\n",
       "      <td>FW</td>\n",
       "      <td>0.171429</td>\n",
       "    </tr>\n",
       "    <tr>\n",
       "      <th>3</th>\n",
       "      <td>Ben Chilwell</td>\n",
       "      <td>Chelsea</td>\n",
       "      <td>DF</td>\n",
       "      <td>0.111111</td>\n",
       "    </tr>\n",
       "    <tr>\n",
       "      <th>4</th>\n",
       "      <td>Reece James</td>\n",
       "      <td>Chelsea</td>\n",
       "      <td>DF</td>\n",
       "      <td>0.031250</td>\n",
       "    </tr>\n",
       "  </tbody>\n",
       "</table>\n",
       "</div>"
      ],
      "text/plain": [
       "            Name     Club Position  goals_per_match\n",
       "0    Mason Mount  Chelsea    MF,FW         0.166667\n",
       "1  Edouard Mendy  Chelsea       GK         0.000000\n",
       "2    Timo Werner  Chelsea       FW         0.171429\n",
       "3   Ben Chilwell  Chelsea       DF         0.111111\n",
       "4    Reece James  Chelsea       DF         0.031250"
      ]
     },
     "execution_count": 323,
     "metadata": {},
     "output_type": "execute_result"
    }
   ],
   "source": [
    "# select the important metrics for the goals per match analysis\n",
    "goals_per_match=epl[['Name', 'Club', 'Position', 'goals_per_match']]\n",
    "goals_per_match.head()\n",
    "\n"
   ]
  },
  {
   "cell_type": "code",
   "execution_count": 325,
   "id": "d9b0a95a",
   "metadata": {},
   "outputs": [
    {
     "name": "stdout",
     "output_type": "stream",
     "text": [
      "                      Name                     Club Position  goals_per_match\n",
      "162             Harry Kane        Tottenham Hotspur       FW         0.657143\n",
      "81           Mohamed Salah             Liverpool FC       FW         0.594595\n",
      "307            Joe Willock         Newcastle United       MF         0.571429\n",
      "145          Jesse Lingard          West Ham United    MF,FW         0.562500\n",
      "175            Gareth Bale        Tottenham Hotspur       FW         0.550000\n",
      "74          Anthony Elanga        Manchester United       FW         0.500000\n",
      "51         Bruno Fernandes        Manchester United       MF         0.486486\n",
      "237  Dominic Calvert-Lewin                  Everton       FW         0.484848\n",
      "120      Kelechi Iheanacho           Leicester City       FW         0.480000\n",
      "92              Diogo Jota             Liverpool FC       FW         0.473684\n",
      "33       Ä°lkay GÃ¼ndoÄŸan          Manchester City       MF         0.464286\n",
      "292          Callum Wilson         Newcastle United       FW         0.461538\n",
      "161          Son Heung-min        Tottenham Hotspur       FW         0.459459\n",
      "214        Patrick Bamford             Leeds United       FW         0.447368\n",
      "110            Jamie Vardy           Leicester City       FW         0.441176\n",
      "191    Alexandre Lacazette                  Arsenal       FW         0.419355\n",
      "374             Danny Ings              Southampton       FW         0.413793\n",
      "330         RaÃºl JimÃ©nez  Wolverhampton Wanderers       FW         0.400000\n",
      "63          Edinson Cavani        Manchester United       FW         0.384615\n",
      "143        Michail Antonio          West Ham United       FW         0.384615\n"
     ]
    }
   ],
   "source": [
    "## get the top 20 with top Goals per match ratio\n",
    "Top_goals_per_match=goals_per_match.sort_values(by='goals_per_match', ascending=False)\n",
    "print(Top_goals_per_match.head(20))"
   ]
  },
  {
   "cell_type": "code",
   "execution_count": 327,
   "id": "bc5b4097",
   "metadata": {},
   "outputs": [
    {
     "name": "stdout",
     "output_type": "stream",
     "text": [
      "Position\n",
      "FW       0.204247\n",
      "MF,FW    0.104288\n",
      "FW,MF    0.102772\n",
      "MF       0.056069\n",
      "FW,DF    0.046090\n",
      "MF,DF    0.038210\n",
      "DF       0.034315\n",
      "DF,FW    0.027698\n",
      "DF,MF    0.021632\n",
      "GK       0.000722\n",
      "Name: goals_per_match, dtype: float64\n"
     ]
    }
   ],
   "source": [
    "position_goal_return=Top_goals_per_match.groupby('Position')['goals_per_match'].mean()\n",
    "print(position_goal_return.sort_values(ascending=False))"
   ]
  },
  {
   "cell_type": "code",
   "execution_count": 329,
   "id": "70d212d9",
   "metadata": {},
   "outputs": [
    {
     "data": {
      "image/png": "[encoded data removed]",
      "text/plain": [
       "<Figure size 432x288 with 1 Axes>"
      ]
     },
     "metadata": {},
     "output_type": "display_data"
    }
   ],
   "source": [
    "position_goal_return.sort_values(ascending=False).plot(kind='bar')\n",
    "plt.xlabel('Position')\n",
    "plt.ylabel('Average goals per match')\n",
    "plt.title('Average goals per match by position')\n",
    "plt.show()"
   ]
  },
  {
   "cell_type": "code",
   "execution_count": 332,
   "id": "ac6a057c",
   "metadata": {},
   "outputs": [
    {
     "name": "stdout",
     "output_type": "stream",
     "text": [
      "Position\n",
      "FW       442\n",
      "MF       171\n",
      "DF       129\n",
      "FW,MF    124\n",
      "MF,FW     83\n",
      "MF,DF     14\n",
      "DF,MF     11\n",
      "FW,DF      8\n",
      "DF,FW      3\n",
      "GK         1\n",
      "Name: Goals, dtype: int64\n"
     ]
    }
   ],
   "source": [
    "### Goals scored by position\n",
    "#sort them by goals in descending order\n",
    "goals_scored_by_position=epl.groupby('Position')['Goals'].sum()\n",
    "\n",
    "print(goals_scored_by_position.sort_values(ascending=False))"
   ]
  },
  {
   "cell_type": "code",
   "execution_count": 338,
   "id": "2a84ce54",
   "metadata": {},
   "outputs": [
    {
     "data": {
      "image/png": "[encoded data removed]",
      "text/plain": [
       "<Figure size 432x288 with 1 Axes>"
      ]
     },
     "metadata": {},
     "output_type": "display_data"
    }
   ],
   "source": [
    "goals_scored_by_position.sort_values(ascending=False).plot(kind='bar')\n",
    "plt.xlabel('Player position')\n",
    "plt.ylabel('Goals scored')\n",
    "plt.title('Number of goals scored by position in the 2020/2021 PL season')\n",
    "plt.show()"
   ]
  },
  {
   "cell_type": "code",
   "execution_count": 339,
   "id": "fe913d52",
   "metadata": {},
   "outputs": [
    {
     "name": "stdout",
     "output_type": "stream",
     "text": [
      "Position\n",
      "FW       172\n",
      "MF       162\n",
      "DF       136\n",
      "FW,MF     99\n",
      "MF,FW     68\n",
      "MF,DF     18\n",
      "DF,MF     12\n",
      "DF,FW      8\n",
      "FW,DF      8\n",
      "GK         2\n",
      "Name: Assists, dtype: int64\n"
     ]
    }
   ],
   "source": [
    "### Assists provided by position\n",
    "assists_provided=epl.groupby('Position')['Assists'].sum()\n",
    "print(assists_provided.sort_values(ascending=False))"
   ]
  },
  {
   "cell_type": "code",
   "execution_count": 340,
   "id": "66bc14dd",
   "metadata": {},
   "outputs": [
    {
     "data": {
      "image/png": "[encoded data removed]",
      "text/plain": [
       "<Figure size 432x288 with 1 Axes>"
      ]
     },
     "metadata": {},
     "output_type": "display_data"
    }
   ],
   "source": [
    "assists_provided.sort_values(ascending=False).plot(kind='bar')\n",
    "plt.xlabel('Player position')\n",
    "plt.ylabel('Assists provided')\n",
    "plt.title('Number of assists provided by position in the 2020/2021 PL season')\n",
    "plt.show()"
   ]
  },
  {
   "cell_type": "code",
   "execution_count": 367,
   "id": "95178be4",
   "metadata": {},
   "outputs": [
    {
     "name": "stdout",
     "output_type": "stream",
     "text": [
      "                      Name               Club  Goals  mins_per_goal\n",
      "175            Gareth Bale  Tottenham Hotspur     11      83.636364\n",
      "120      Kelechi Iheanacho     Leicester City     12     121.583333\n",
      "307            Joe Willock   Newcastle United      8     122.250000\n",
      "92              Diogo Jota       Liverpool FC      9     123.555556\n",
      "162             Harry Kane  Tottenham Hotspur     23     134.000000\n",
      "63          Edinson Cavani  Manchester United     10     137.500000\n",
      "46          Sergio AgÃ¼ero    Manchester City      4     139.750000\n",
      "81           Mohamed Salah       Liverpool FC     22     139.909091\n",
      "191    Alexandre Lacazette            Arsenal     13     147.923077\n",
      "74          Anthony Elanga  Manchester United      1     155.000000\n",
      "33       Ä°lkay GÃ¼ndoÄŸan    Manchester City     13     156.076923\n",
      "145          Jesse Lingard    West Ham United      9     157.888889\n",
      "275         Anwar El Ghazi        Aston Villa     10     161.300000\n",
      "197         Nicolas PÃ©pÃ©            Arsenal     10     161.600000\n",
      "51         Bruno Fernandes  Manchester United     18     172.166667\n",
      "16           Tammy Abraham            Chelsea      6     173.333333\n",
      "292          Callum Wilson   Newcastle United     12     173.666667\n",
      "214        Patrick Bamford       Leeds United     17     179.411765\n",
      "237  Dominic Calvert-Lewin            Everton     16     179.437500\n",
      "39              Phil Foden    Manchester City      9     179.555556\n"
     ]
    }
   ],
   "source": [
    "## Calcualte the players with the best minutes per goal\n",
    "### create the mins/goal column\n",
    "###print the top 20 mins/goal\n",
    "epl['mins_per_goal']=epl['Mins']/epl['Goals']\n",
    "minutes_per_goal=epl[['Name', 'Club','Goals','mins_per_goal']]\n",
    "print(minutes_per_goal.sort_values(by='mins_per_goal', ascending=True).head(20))\n"
   ]
  },
  {
   "cell_type": "code",
   "execution_count": null,
   "id": "d3fe0951",
   "metadata": {},
   "outputs": [],
   "source": []
  }
 ],
 "metadata": {
  "kernelspec": {
   "display_name": "Python 3 (ipykernel)",
   "language": "python",
   "name": "python3"
  },
  "language_info": {
   "codemirror_mode": {
    "name": "ipython",
    "version": 3
   },
   "file_extension": ".py",
   "mimetype": "text/x-python",
   "name": "python",
   "nbconvert_exporter": "python",
   "pygments_lexer": "ipython3",
   "version": "3.9.12"
  }
 },
 "nbformat": 4,
 "nbformat_minor": 5
}
